{
 "cells": [
  {
   "cell_type": "code",
   "execution_count": 1,
   "id": "8651df41",
   "metadata": {},
   "outputs": [
    {
     "name": "stdout",
     "output_type": "stream",
     "text": [
      "Requirement already satisfied: pandas in c:\\users\\admin\\anaconda3\\lib\\site-packages (1.5.3)\n",
      "Requirement already satisfied: numpy>=1.21.0 in c:\\users\\admin\\anaconda3\\lib\\site-packages (from pandas) (1.23.5)\n",
      "Requirement already satisfied: python-dateutil>=2.8.1 in c:\\users\\admin\\anaconda3\\lib\\site-packages (from pandas) (2.8.2)\n",
      "Requirement already satisfied: pytz>=2020.1 in c:\\users\\admin\\anaconda3\\lib\\site-packages (from pandas) (2022.7)\n",
      "Requirement already satisfied: six>=1.5 in c:\\users\\admin\\anaconda3\\lib\\site-packages (from python-dateutil>=2.8.1->pandas) (1.16.0)\n"
     ]
    }
   ],
   "source": [
    "# import necessary libraries\n",
    "\n",
    "!pip install pandas\n",
    "import pandas as pd    #for import/export,data structures,easy handling and cleaning data \n",
    "import numpy as np      # for numeric calculations,array,algebra \n",
    "import matplotlib.pyplot as plt  # 2d platting library for data visualisation \n",
    "import seaborn as sns     # for advance statistical visualisation like heatmaps,pair plots,violin plots\n",
    "import plotly.express as px   #for 3d plots,line plots,scatter plots, maps  "
   ]
  },
  {
   "cell_type": "code",
   "execution_count": 2,
   "id": "bf5f521b",
   "metadata": {
    "scrolled": false
   },
   "outputs": [],
   "source": [
    "# import data\n",
    "df = pd.read_csv(r'D:\\Nadia\\Data Analysis\\Python\\Project_EDA\\Datasets\\heart_attack_dataset.csv')\n",
    "\n"
   ]
  },
  {
   "cell_type": "code",
   "execution_count": 3,
   "id": "9d8ffb7d",
   "metadata": {},
   "outputs": [
    {
     "name": "stdout",
     "output_type": "stream",
     "text": [
      "C:\\Users\\admin\n"
     ]
    }
   ],
   "source": [
    "import os                   # to know where my jupiter is installed as i am having issue in dataset to make it read\n",
    "print(os.getcwd())"
   ]
  },
  {
   "cell_type": "code",
   "execution_count": 4,
   "id": "adcf6c79",
   "metadata": {},
   "outputs": [
    {
     "name": "stdout",
     "output_type": "stream",
     "text": [
      "<class 'pandas.core.frame.DataFrame'>\n",
      "RangeIndex: 1000 entries, 0 to 999\n",
      "Data columns (total 10 columns):\n",
      " #   Column                 Non-Null Count  Dtype  \n",
      "---  ------                 --------------  -----  \n",
      " 0   Gender                 1000 non-null   object \n",
      " 1   Age                    1000 non-null   int64  \n",
      " 2   Blood Pressure (mmHg)  1000 non-null   int64  \n",
      " 3   Cholesterol (mg/dL)    1000 non-null   int64  \n",
      " 4   Has Diabetes           1000 non-null   object \n",
      " 5   Smoking Status         1000 non-null   object \n",
      " 6   Chest Pain Type        1000 non-null   object \n",
      " 7   Treatment              1000 non-null   object \n",
      " 8   Unnamed: 8             0 non-null      float64\n",
      " 9   Unnamed: 9             0 non-null      float64\n",
      "dtypes: float64(2), int64(3), object(5)\n",
      "memory usage: 78.2+ KB\n"
     ]
    }
   ],
   "source": [
    "df.info()                           # to check and overall data dynamics"
   ]
  },
  {
   "cell_type": "code",
   "execution_count": 5,
   "id": "1674c886",
   "metadata": {
    "scrolled": true
   },
   "outputs": [
    {
     "data": {
      "text/html": [
       "<div>\n",
       "<style scoped>\n",
       "    .dataframe tbody tr th:only-of-type {\n",
       "        vertical-align: middle;\n",
       "    }\n",
       "\n",
       "    .dataframe tbody tr th {\n",
       "        vertical-align: top;\n",
       "    }\n",
       "\n",
       "    .dataframe thead th {\n",
       "        text-align: right;\n",
       "    }\n",
       "</style>\n",
       "<table border=\"1\" class=\"dataframe\">\n",
       "  <thead>\n",
       "    <tr style=\"text-align: right;\">\n",
       "      <th></th>\n",
       "      <th>Gender</th>\n",
       "      <th>Age</th>\n",
       "      <th>Blood Pressure (mmHg)</th>\n",
       "      <th>Cholesterol (mg/dL)</th>\n",
       "      <th>Has Diabetes</th>\n",
       "      <th>Smoking Status</th>\n",
       "      <th>Chest Pain Type</th>\n",
       "      <th>Treatment</th>\n",
       "      <th>Unnamed: 8</th>\n",
       "      <th>Unnamed: 9</th>\n",
       "    </tr>\n",
       "  </thead>\n",
       "  <tbody>\n",
       "    <tr>\n",
       "      <th>0</th>\n",
       "      <td>Male</td>\n",
       "      <td>70</td>\n",
       "      <td>181</td>\n",
       "      <td>262</td>\n",
       "      <td>No</td>\n",
       "      <td>Never</td>\n",
       "      <td>Typical Angina</td>\n",
       "      <td>Lifestyle Changes</td>\n",
       "      <td>NaN</td>\n",
       "      <td>NaN</td>\n",
       "    </tr>\n",
       "    <tr>\n",
       "      <th>1</th>\n",
       "      <td>Female</td>\n",
       "      <td>55</td>\n",
       "      <td>103</td>\n",
       "      <td>253</td>\n",
       "      <td>Yes</td>\n",
       "      <td>Never</td>\n",
       "      <td>Atypical Angina</td>\n",
       "      <td>Angioplasty</td>\n",
       "      <td>NaN</td>\n",
       "      <td>NaN</td>\n",
       "    </tr>\n",
       "    <tr>\n",
       "      <th>2</th>\n",
       "      <td>Male</td>\n",
       "      <td>42</td>\n",
       "      <td>95</td>\n",
       "      <td>295</td>\n",
       "      <td>Yes</td>\n",
       "      <td>Current</td>\n",
       "      <td>Typical Angina</td>\n",
       "      <td>Angioplasty</td>\n",
       "      <td>NaN</td>\n",
       "      <td>NaN</td>\n",
       "    </tr>\n",
       "    <tr>\n",
       "      <th>3</th>\n",
       "      <td>Male</td>\n",
       "      <td>84</td>\n",
       "      <td>106</td>\n",
       "      <td>270</td>\n",
       "      <td>No</td>\n",
       "      <td>Never</td>\n",
       "      <td>Atypical Angina</td>\n",
       "      <td>Coronary Artery Bypass Graft (CABG)</td>\n",
       "      <td>NaN</td>\n",
       "      <td>NaN</td>\n",
       "    </tr>\n",
       "    <tr>\n",
       "      <th>4</th>\n",
       "      <td>Male</td>\n",
       "      <td>86</td>\n",
       "      <td>187</td>\n",
       "      <td>296</td>\n",
       "      <td>Yes</td>\n",
       "      <td>Current</td>\n",
       "      <td>Non-anginal Pain</td>\n",
       "      <td>Medication</td>\n",
       "      <td>NaN</td>\n",
       "      <td>NaN</td>\n",
       "    </tr>\n",
       "  </tbody>\n",
       "</table>\n",
       "</div>"
      ],
      "text/plain": [
       "   Gender  Age  Blood Pressure (mmHg)  Cholesterol (mg/dL) Has Diabetes  \\\n",
       "0    Male   70                    181                  262           No   \n",
       "1  Female   55                    103                  253          Yes   \n",
       "2    Male   42                     95                  295          Yes   \n",
       "3    Male   84                    106                  270           No   \n",
       "4    Male   86                    187                  296          Yes   \n",
       "\n",
       "  Smoking Status   Chest Pain Type                            Treatment  \\\n",
       "0          Never    Typical Angina                    Lifestyle Changes   \n",
       "1          Never   Atypical Angina                          Angioplasty   \n",
       "2        Current    Typical Angina                          Angioplasty   \n",
       "3          Never   Atypical Angina  Coronary Artery Bypass Graft (CABG)   \n",
       "4        Current  Non-anginal Pain                           Medication   \n",
       "\n",
       "   Unnamed: 8  Unnamed: 9  \n",
       "0         NaN         NaN  \n",
       "1         NaN         NaN  \n",
       "2         NaN         NaN  \n",
       "3         NaN         NaN  \n",
       "4         NaN         NaN  "
      ]
     },
     "execution_count": 5,
     "metadata": {},
     "output_type": "execute_result"
    }
   ],
   "source": [
    "df.head()                           # to check first 5 rows"
   ]
  },
  {
   "cell_type": "code",
   "execution_count": 6,
   "id": "8ef60e1b",
   "metadata": {},
   "outputs": [
    {
     "name": "stdout",
     "output_type": "stream",
     "text": [
      "['Gender', 'Age', 'Blood Pressure (mmHg)', 'Cholesterol (mg/dL)', 'Has Diabetes', 'Smoking Status', 'Chest Pain Type', 'Treatment', 'Unnamed: 8', 'Unnamed: 9']\n"
     ]
    }
   ],
   "source": [
    "print(df.columns.tolist())                    # to check the column names"
   ]
  },
  {
   "cell_type": "code",
   "execution_count": 7,
   "id": "fc395420",
   "metadata": {},
   "outputs": [],
   "source": [
    "df.columns = df.columns.str.strip()          # Strip whitespace from column names "
   ]
  },
  {
   "cell_type": "code",
   "execution_count": 8,
   "id": "58a30399",
   "metadata": {},
   "outputs": [
    {
     "name": "stdout",
     "output_type": "stream",
     "text": [
      "'Gender'\n",
      "'Age'\n",
      "'Blood Pressure (mmHg)'\n",
      "'Cholesterol (mg/dL)'\n",
      "'Has Diabetes'\n",
      "'Smoking Status'\n",
      "'Chest Pain Type'\n",
      "'Treatment'\n",
      "'Unnamed: 8'\n",
      "'Unnamed: 9'\n"
     ]
    }
   ],
   "source": [
    "for col in df.columns:            # to know columns exact representation\n",
    "    print(f\"'{col}'\")  "
   ]
  },
  {
   "cell_type": "code",
   "execution_count": 9,
   "id": "72de1766",
   "metadata": {},
   "outputs": [],
   "source": [
    "df_cleaned = df.drop(columns=['Unnamed: 8', 'Unnamed: 9'])    # Drop unnamed columns as it has no use "
   ]
  },
  {
   "cell_type": "code",
   "execution_count": 10,
   "id": "6c93afb2",
   "metadata": {
    "scrolled": true
   },
   "outputs": [
    {
     "data": {
      "text/html": [
       "<div>\n",
       "<style scoped>\n",
       "    .dataframe tbody tr th:only-of-type {\n",
       "        vertical-align: middle;\n",
       "    }\n",
       "\n",
       "    .dataframe tbody tr th {\n",
       "        vertical-align: top;\n",
       "    }\n",
       "\n",
       "    .dataframe thead th {\n",
       "        text-align: right;\n",
       "    }\n",
       "</style>\n",
       "<table border=\"1\" class=\"dataframe\">\n",
       "  <thead>\n",
       "    <tr style=\"text-align: right;\">\n",
       "      <th></th>\n",
       "      <th>Gender</th>\n",
       "      <th>Age</th>\n",
       "      <th>Blood Pressure (mmHg)</th>\n",
       "      <th>Cholesterol (mg/dL)</th>\n",
       "      <th>Has Diabetes</th>\n",
       "      <th>Smoking Status</th>\n",
       "      <th>Chest Pain Type</th>\n",
       "      <th>Treatment</th>\n",
       "    </tr>\n",
       "  </thead>\n",
       "  <tbody>\n",
       "    <tr>\n",
       "      <th>0</th>\n",
       "      <td>Male</td>\n",
       "      <td>70</td>\n",
       "      <td>181</td>\n",
       "      <td>262</td>\n",
       "      <td>No</td>\n",
       "      <td>Never</td>\n",
       "      <td>Typical Angina</td>\n",
       "      <td>Lifestyle Changes</td>\n",
       "    </tr>\n",
       "    <tr>\n",
       "      <th>1</th>\n",
       "      <td>Female</td>\n",
       "      <td>55</td>\n",
       "      <td>103</td>\n",
       "      <td>253</td>\n",
       "      <td>Yes</td>\n",
       "      <td>Never</td>\n",
       "      <td>Atypical Angina</td>\n",
       "      <td>Angioplasty</td>\n",
       "    </tr>\n",
       "    <tr>\n",
       "      <th>2</th>\n",
       "      <td>Male</td>\n",
       "      <td>42</td>\n",
       "      <td>95</td>\n",
       "      <td>295</td>\n",
       "      <td>Yes</td>\n",
       "      <td>Current</td>\n",
       "      <td>Typical Angina</td>\n",
       "      <td>Angioplasty</td>\n",
       "    </tr>\n",
       "    <tr>\n",
       "      <th>3</th>\n",
       "      <td>Male</td>\n",
       "      <td>84</td>\n",
       "      <td>106</td>\n",
       "      <td>270</td>\n",
       "      <td>No</td>\n",
       "      <td>Never</td>\n",
       "      <td>Atypical Angina</td>\n",
       "      <td>Coronary Artery Bypass Graft (CABG)</td>\n",
       "    </tr>\n",
       "    <tr>\n",
       "      <th>4</th>\n",
       "      <td>Male</td>\n",
       "      <td>86</td>\n",
       "      <td>187</td>\n",
       "      <td>296</td>\n",
       "      <td>Yes</td>\n",
       "      <td>Current</td>\n",
       "      <td>Non-anginal Pain</td>\n",
       "      <td>Medication</td>\n",
       "    </tr>\n",
       "  </tbody>\n",
       "</table>\n",
       "</div>"
      ],
      "text/plain": [
       "   Gender  Age  Blood Pressure (mmHg)  Cholesterol (mg/dL) Has Diabetes  \\\n",
       "0    Male   70                    181                  262           No   \n",
       "1  Female   55                    103                  253          Yes   \n",
       "2    Male   42                     95                  295          Yes   \n",
       "3    Male   84                    106                  270           No   \n",
       "4    Male   86                    187                  296          Yes   \n",
       "\n",
       "  Smoking Status   Chest Pain Type                            Treatment  \n",
       "0          Never    Typical Angina                    Lifestyle Changes  \n",
       "1          Never   Atypical Angina                          Angioplasty  \n",
       "2        Current    Typical Angina                          Angioplasty  \n",
       "3          Never   Atypical Angina  Coronary Artery Bypass Graft (CABG)  \n",
       "4        Current  Non-anginal Pain                           Medication  "
      ]
     },
     "execution_count": 10,
     "metadata": {},
     "output_type": "execute_result"
    }
   ],
   "source": [
    "df_cleaned.head()                 # to check first 5 rows of clean data "
   ]
  },
  {
   "cell_type": "code",
   "execution_count": 11,
   "id": "a1268d20",
   "metadata": {},
   "outputs": [
    {
     "data": {
      "text/html": [
       "<div>\n",
       "<style scoped>\n",
       "    .dataframe tbody tr th:only-of-type {\n",
       "        vertical-align: middle;\n",
       "    }\n",
       "\n",
       "    .dataframe tbody tr th {\n",
       "        vertical-align: top;\n",
       "    }\n",
       "\n",
       "    .dataframe thead th {\n",
       "        text-align: right;\n",
       "    }\n",
       "</style>\n",
       "<table border=\"1\" class=\"dataframe\">\n",
       "  <thead>\n",
       "    <tr style=\"text-align: right;\">\n",
       "      <th></th>\n",
       "      <th>Gender</th>\n",
       "      <th>Age</th>\n",
       "      <th>Blood Pressure (mmHg)</th>\n",
       "      <th>Cholesterol (mg/dL)</th>\n",
       "      <th>Has Diabetes</th>\n",
       "      <th>Smoking Status</th>\n",
       "      <th>Chest Pain Type</th>\n",
       "      <th>Treatment</th>\n",
       "    </tr>\n",
       "  </thead>\n",
       "  <tbody>\n",
       "    <tr>\n",
       "      <th>995</th>\n",
       "      <td>Male</td>\n",
       "      <td>42</td>\n",
       "      <td>125</td>\n",
       "      <td>193</td>\n",
       "      <td>Yes</td>\n",
       "      <td>Current</td>\n",
       "      <td>Typical Angina</td>\n",
       "      <td>Angioplasty</td>\n",
       "    </tr>\n",
       "    <tr>\n",
       "      <th>996</th>\n",
       "      <td>Male</td>\n",
       "      <td>80</td>\n",
       "      <td>186</td>\n",
       "      <td>267</td>\n",
       "      <td>Yes</td>\n",
       "      <td>Never</td>\n",
       "      <td>Atypical Angina</td>\n",
       "      <td>Coronary Artery Bypass Graft (CABG)</td>\n",
       "    </tr>\n",
       "    <tr>\n",
       "      <th>997</th>\n",
       "      <td>Female</td>\n",
       "      <td>64</td>\n",
       "      <td>108</td>\n",
       "      <td>174</td>\n",
       "      <td>Yes</td>\n",
       "      <td>Current</td>\n",
       "      <td>Non-anginal Pain</td>\n",
       "      <td>Coronary Artery Bypass Graft (CABG)</td>\n",
       "    </tr>\n",
       "    <tr>\n",
       "      <th>998</th>\n",
       "      <td>Female</td>\n",
       "      <td>84</td>\n",
       "      <td>123</td>\n",
       "      <td>195</td>\n",
       "      <td>No</td>\n",
       "      <td>Current</td>\n",
       "      <td>Asymptomatic</td>\n",
       "      <td>Lifestyle Changes</td>\n",
       "    </tr>\n",
       "    <tr>\n",
       "      <th>999</th>\n",
       "      <td>Male</td>\n",
       "      <td>61</td>\n",
       "      <td>155</td>\n",
       "      <td>197</td>\n",
       "      <td>No</td>\n",
       "      <td>Former</td>\n",
       "      <td>Atypical Angina</td>\n",
       "      <td>Lifestyle Changes</td>\n",
       "    </tr>\n",
       "  </tbody>\n",
       "</table>\n",
       "</div>"
      ],
      "text/plain": [
       "     Gender  Age  Blood Pressure (mmHg)  Cholesterol (mg/dL) Has Diabetes  \\\n",
       "995    Male   42                    125                  193          Yes   \n",
       "996    Male   80                    186                  267          Yes   \n",
       "997  Female   64                    108                  174          Yes   \n",
       "998  Female   84                    123                  195           No   \n",
       "999    Male   61                    155                  197           No   \n",
       "\n",
       "    Smoking Status   Chest Pain Type                            Treatment  \n",
       "995        Current    Typical Angina                          Angioplasty  \n",
       "996          Never   Atypical Angina  Coronary Artery Bypass Graft (CABG)  \n",
       "997        Current  Non-anginal Pain  Coronary Artery Bypass Graft (CABG)  \n",
       "998        Current      Asymptomatic                    Lifestyle Changes  \n",
       "999         Former   Atypical Angina                    Lifestyle Changes  "
      ]
     },
     "execution_count": 11,
     "metadata": {},
     "output_type": "execute_result"
    }
   ],
   "source": [
    "df_cleaned.tail()            # to know the last 5 rows of the filtered dataset"
   ]
  },
  {
   "cell_type": "code",
   "execution_count": 12,
   "id": "a3ed8a7a",
   "metadata": {},
   "outputs": [
    {
     "name": "stdout",
     "output_type": "stream",
     "text": [
      "<class 'pandas.core.frame.DataFrame'>\n",
      "RangeIndex: 1000 entries, 0 to 999\n",
      "Data columns (total 8 columns):\n",
      " #   Column                 Non-Null Count  Dtype \n",
      "---  ------                 --------------  ----- \n",
      " 0   Gender                 1000 non-null   object\n",
      " 1   Age                    1000 non-null   int64 \n",
      " 2   Blood Pressure (mmHg)  1000 non-null   int64 \n",
      " 3   Cholesterol (mg/dL)    1000 non-null   int64 \n",
      " 4   Has Diabetes           1000 non-null   object\n",
      " 5   Smoking Status         1000 non-null   object\n",
      " 6   Chest Pain Type        1000 non-null   object\n",
      " 7   Treatment              1000 non-null   object\n",
      "dtypes: int64(3), object(5)\n",
      "memory usage: 62.6+ KB\n"
     ]
    }
   ],
   "source": [
    "df_cleaned.info()                  # to check data types and non-null counts"
   ]
  },
  {
   "cell_type": "code",
   "execution_count": 13,
   "id": "e0e98139",
   "metadata": {
    "scrolled": true
   },
   "outputs": [
    {
     "data": {
      "text/plain": [
       "Female    510\n",
       "Male      490\n",
       "Name: Gender, dtype: int64"
      ]
     },
     "execution_count": 13,
     "metadata": {},
     "output_type": "execute_result"
    }
   ],
   "source": [
    "df_cleaned['Gender'].value_counts()     # Checking the unique values and gender wise count"
   ]
  },
  {
   "cell_type": "code",
   "execution_count": 14,
   "id": "a96fd2ab",
   "metadata": {},
   "outputs": [
    {
     "data": {
      "text/plain": [
       "Yes    517\n",
       "No     483\n",
       "Name: Has Diabetes, dtype: int64"
      ]
     },
     "execution_count": 14,
     "metadata": {},
     "output_type": "execute_result"
    }
   ],
   "source": [
    "df_cleaned['Has Diabetes'].value_counts()            # Checking how many are diabetic  "
   ]
  },
  {
   "cell_type": "code",
   "execution_count": 15,
   "id": "19736bb7",
   "metadata": {
    "scrolled": true
   },
   "outputs": [
    {
     "data": {
      "text/html": [
       "<div>\n",
       "<style scoped>\n",
       "    .dataframe tbody tr th:only-of-type {\n",
       "        vertical-align: middle;\n",
       "    }\n",
       "\n",
       "    .dataframe tbody tr th {\n",
       "        vertical-align: top;\n",
       "    }\n",
       "\n",
       "    .dataframe thead th {\n",
       "        text-align: right;\n",
       "    }\n",
       "</style>\n",
       "<table border=\"1\" class=\"dataframe\">\n",
       "  <thead>\n",
       "    <tr style=\"text-align: right;\">\n",
       "      <th></th>\n",
       "      <th>Age</th>\n",
       "      <th>Blood Pressure (mmHg)</th>\n",
       "      <th>Cholesterol (mg/dL)</th>\n",
       "    </tr>\n",
       "  </thead>\n",
       "  <tbody>\n",
       "    <tr>\n",
       "      <th>count</th>\n",
       "      <td>1000.000000</td>\n",
       "      <td>1000.000000</td>\n",
       "      <td>1000.000000</td>\n",
       "    </tr>\n",
       "    <tr>\n",
       "      <th>mean</th>\n",
       "      <td>60.338000</td>\n",
       "      <td>145.440000</td>\n",
       "      <td>223.789000</td>\n",
       "    </tr>\n",
       "    <tr>\n",
       "      <th>std</th>\n",
       "      <td>17.317496</td>\n",
       "      <td>31.756525</td>\n",
       "      <td>42.787817</td>\n",
       "    </tr>\n",
       "    <tr>\n",
       "      <th>min</th>\n",
       "      <td>30.000000</td>\n",
       "      <td>90.000000</td>\n",
       "      <td>150.000000</td>\n",
       "    </tr>\n",
       "    <tr>\n",
       "      <th>25%</th>\n",
       "      <td>45.000000</td>\n",
       "      <td>118.000000</td>\n",
       "      <td>185.000000</td>\n",
       "    </tr>\n",
       "    <tr>\n",
       "      <th>50%</th>\n",
       "      <td>60.500000</td>\n",
       "      <td>146.000000</td>\n",
       "      <td>225.500000</td>\n",
       "    </tr>\n",
       "    <tr>\n",
       "      <th>75%</th>\n",
       "      <td>76.000000</td>\n",
       "      <td>173.000000</td>\n",
       "      <td>259.000000</td>\n",
       "    </tr>\n",
       "    <tr>\n",
       "      <th>max</th>\n",
       "      <td>89.000000</td>\n",
       "      <td>199.000000</td>\n",
       "      <td>299.000000</td>\n",
       "    </tr>\n",
       "  </tbody>\n",
       "</table>\n",
       "</div>"
      ],
      "text/plain": [
       "               Age  Blood Pressure (mmHg)  Cholesterol (mg/dL)\n",
       "count  1000.000000            1000.000000          1000.000000\n",
       "mean     60.338000             145.440000           223.789000\n",
       "std      17.317496              31.756525            42.787817\n",
       "min      30.000000              90.000000           150.000000\n",
       "25%      45.000000             118.000000           185.000000\n",
       "50%      60.500000             146.000000           225.500000\n",
       "75%      76.000000             173.000000           259.000000\n",
       "max      89.000000             199.000000           299.000000"
      ]
     },
     "execution_count": 15,
     "metadata": {},
     "output_type": "execute_result"
    }
   ],
   "source": [
    "df_cleaned.describe()              # to understand the distribution of numeric columns"
   ]
  },
  {
   "cell_type": "raw",
   "id": "34622d95",
   "metadata": {},
   "source": [
    "The dataset has 1,000 patients with an average age of 60.34 years, showing that most are older adults. Their average blood pressure (145.44 mmHg) and cholesterol (223.79 mg/dL) are higher than what's healthy. min means the youngest one is of age 30 among patients. "
   ]
  },
  {
   "cell_type": "code",
   "execution_count": 16,
   "id": "5fa5b5ba",
   "metadata": {},
   "outputs": [
    {
     "data": {
      "text/plain": [
       "Never      352\n",
       "Current    325\n",
       "Former     323\n",
       "Name: Smoking Status, dtype: int64"
      ]
     },
     "execution_count": 16,
     "metadata": {},
     "output_type": "execute_result"
    }
   ],
   "source": [
    "df_cleaned['Smoking Status'].value_counts()          # checking the smoking status of patients"
   ]
  },
  {
   "cell_type": "code",
   "execution_count": 17,
   "id": "eb66ab9b",
   "metadata": {},
   "outputs": [
    {
     "data": {
      "text/plain": [
       "Non-anginal Pain    261\n",
       "Asymptomatic        255\n",
       "Typical Angina      243\n",
       "Atypical Angina     241\n",
       "Name: Chest Pain Type, dtype: int64"
      ]
     },
     "execution_count": 17,
     "metadata": {},
     "output_type": "execute_result"
    }
   ],
   "source": [
    "df_cleaned['Chest Pain Type'].value_counts()          # checking the diagnosis of chest pain in total patients"
   ]
  },
  {
   "cell_type": "code",
   "execution_count": 18,
   "id": "5671e58d",
   "metadata": {
    "scrolled": true
   },
   "outputs": [
    {
     "data": {
      "text/plain": [
       "Lifestyle Changes                      269\n",
       "Coronary Artery Bypass Graft (CABG)    252\n",
       "Angioplasty                            247\n",
       "Medication                             232\n",
       "Name: Treatment, dtype: int64"
      ]
     },
     "execution_count": 18,
     "metadata": {},
     "output_type": "execute_result"
    }
   ],
   "source": [
    "df_cleaned['Treatment'].value_counts()       # checking the treatment/recommendation prescribed by doctor to patients "
   ]
  },
  {
   "cell_type": "markdown",
   "id": "52c8f666",
   "metadata": {},
   "source": [
    "# Univariate Analysis\n",
    "I did to see distribution and to see any outliers among them and the data is clean. To know the overall statistical figure. "
   ]
  },
  {
   "cell_type": "code",
   "execution_count": 19,
   "id": "3fd6e8d5",
   "metadata": {},
   "outputs": [
    {
     "data": {
      "image/png": "[encoded data removed]",
      "text/plain": [
       "<Figure size 500x400 with 1 Axes>"
      ]
     },
     "metadata": {},
     "output_type": "display_data"
    }
   ],
   "source": [
    "# Visualisation Analysis:\n",
    "# AGE distribution Plot:\n",
    "plt.figure(figsize=(5,4))\n",
    "sns.histplot(df_cleaned['Age'], bins=20, kde=True, color='green')\n",
    "plt.title('Age Distribution')\n",
    "plt.xlabel('Age')\n",
    "plt.ylabel('Count')\n",
    "plt.show()"
   ]
  },
  {
   "cell_type": "code",
   "execution_count": 20,
   "id": "d0b1faca",
   "metadata": {},
   "outputs": [
    {
     "data": {
      "image/png": "[encoded data removed]",
      "text/plain": [
       "<Figure size 500x500 with 1 Axes>"
      ]
     },
     "metadata": {},
     "output_type": "display_data"
    }
   ],
   "source": [
    "# Blood Pressure distribution analysis:\n",
    "plt.figure(figsize=(5,5))\n",
    "sns.histplot(df_cleaned['Blood Pressure (mmHg)'], bins=20, kde=True, color='skyblue')\n",
    "plt.title('Blood Pressure Distribution')\n",
    "plt.xlabel('Blood Pressure (mmHg)')\n",
    "plt.ylabel('Count')\n",
    "plt.show()"
   ]
  },
  {
   "cell_type": "code",
   "execution_count": 21,
   "id": "42a7c74a",
   "metadata": {},
   "outputs": [
    {
     "data": {
      "image/png": "[encoded data removed]",
      "text/plain": [
       "<Figure size 500x500 with 1 Axes>"
      ]
     },
     "metadata": {},
     "output_type": "display_data"
    }
   ],
   "source": [
    "# Cholesterol distribution analysis:\n",
    "plt.figure(figsize=(5,5))\n",
    "sns.histplot(df_cleaned['Cholesterol (mg/dL)'], bins=20, kde=True, color='lightgreen')\n",
    "plt.title('Cholesterol Distribution')\n",
    "plt.xlabel('Cholesterol (mg/dL)')\n",
    "plt.ylabel('Count')\n",
    "plt.show()"
   ]
  },
  {
   "cell_type": "code",
   "execution_count": 22,
   "id": "dcca1fdc",
   "metadata": {},
   "outputs": [
    {
     "data": {
      "image/png": "[encoded data removed]",
      "text/plain": [
       "<Figure size 600x600 with 1 Axes>"
      ]
     },
     "metadata": {},
     "output_type": "display_data"
    }
   ],
   "source": [
    "# Gender distribution plot\n",
    "plt.figure(figsize=(6,6))\n",
    "df_cleaned['Gender'].value_counts().plot.pie(autopct='%1.1f%%', colors=['lightblue', 'pink'], explode=[0,0.1])\n",
    "plt.title('Gender Distribution')\n",
    "plt.ylabel('')\n",
    "plt.show()"
   ]
  },
  {
   "cell_type": "code",
   "execution_count": 76,
   "id": "7cea87aa",
   "metadata": {},
   "outputs": [
    {
     "data": {
      "image/png": "[encoded data removed]",
      "text/plain": [
       "<Figure size 800x600 with 1 Axes>"
      ]
     },
     "metadata": {},
     "output_type": "display_data"
    }
   ],
   "source": [
    "# Smoking Status Distribution\n",
    "plt.figure(figsize=(8,6))\n",
    "sns.countplot(x = 'Smoking Status', data=df_cleaned, palette='coolwarm')  \n",
    "plt.title('Smoking Status Count') \n",
    "plt.xlabel('Smoking Status') \n",
    "plt.ylabel('Count')   \n",
    "plt.show()           "
   ]
  },
  {
   "cell_type": "code",
   "execution_count": 77,
   "id": "6dfecd74",
   "metadata": {},
   "outputs": [
    {
     "data": {
      "image/png": "[encoded data removed]",
      "text/plain": [
       "<Figure size 800x600 with 1 Axes>"
      ]
     },
     "metadata": {},
     "output_type": "display_data"
    }
   ],
   "source": [
    "# chest pain types plot\n",
    "plt.figure(figsize=(8,6))\n",
    "sns.countplot(x='Chest Pain Type', data=df_cleaned, palette='magma')\n",
    "plt.title('Chest Pain Type Distribution')\n",
    "plt.show()"
   ]
  },
  {
   "cell_type": "code",
   "execution_count": 78,
   "id": "d30d72e4",
   "metadata": {},
   "outputs": [
    {
     "data": {
      "image/png": "[encoded data removed]",
      "text/plain": [
       "<Figure size 600x500 with 2 Axes>"
      ]
     },
     "metadata": {},
     "output_type": "display_data"
    }
   ],
   "source": [
    "# Correlation matrix b/w Bp & Cholesterol\n",
    "plt.figure(figsize=(6,5))\n",
    "sns.heatmap(df_cleaned[['Age', 'Blood Pressure (mmHg)', 'Cholesterol (mg/dL)']].corr(), annot=True, cmap='coolwarm')\n",
    "plt.title('Correlation Matrix')\n",
    "plt.show()"
   ]
  },
  {
   "cell_type": "raw",
   "id": "17e7866d",
   "metadata": {},
   "source": [
    "Age and Blood Pressure correlation is very close to 0 (-0.0033), indicating that as age increases, blood pressure doesnot affect. \n",
    "Age and Cholesterol: The correlation is also very low (0.0017), suggesting that age has little to no effect on cholesterol levels.\n",
    "Blood Pressure and Cholesterol: There is a slight positive correlation (0.044), which indicates a weak relationship. This means that higher blood pressure might be associated with slightly higher cholesterol levels, but the relationship is not strong.\n",
    "None of the variables show significant correlations with each other in this dataset. This suggests that factors like age, blood pressure, and cholesterol levels may operate independently. "
   ]
  },
  {
   "cell_type": "code",
   "execution_count": 144,
   "id": "6b8cb811",
   "metadata": {},
   "outputs": [],
   "source": [
    "df_cleaned=pd.DataFrame(df_cleaned)"
   ]
  },
  {
   "cell_type": "code",
   "execution_count": 146,
   "id": "8bbf37ae",
   "metadata": {},
   "outputs": [
    {
     "name": "stdout",
     "output_type": "stream",
     "text": [
      "     Chest Pain Type                            Treatment  Patient_Count\n",
      "0       Asymptomatic                          Angioplasty             66\n",
      "1       Asymptomatic  Coronary Artery Bypass Graft (CABG)             56\n",
      "2       Asymptomatic                    Lifestyle Changes             65\n",
      "3       Asymptomatic                           Medication             68\n",
      "4    Atypical Angina                          Angioplasty             49\n",
      "5    Atypical Angina  Coronary Artery Bypass Graft (CABG)             69\n",
      "6    Atypical Angina                    Lifestyle Changes             65\n",
      "7    Atypical Angina                           Medication             58\n",
      "8   Non-anginal Pain                          Angioplasty             74\n",
      "9   Non-anginal Pain  Coronary Artery Bypass Graft (CABG)             60\n",
      "10  Non-anginal Pain                    Lifestyle Changes             75\n",
      "11  Non-anginal Pain                           Medication             52\n",
      "12    Typical Angina                          Angioplasty             58\n",
      "13    Typical Angina  Coronary Artery Bypass Graft (CABG)             67\n",
      "14    Typical Angina                    Lifestyle Changes             64\n",
      "15    Typical Angina                           Medication             54\n"
     ]
    }
   ],
   "source": [
    "# Group by Chest Pain Type (diagnosis) and with the Treatment to know the total count of patients are suffering from what:\n",
    "grouped_df_cleaned = df_cleaned.groupby(['Chest Pain Type', 'Treatment']).size().reset_index(name='Patient_Count')\n",
    "print(grouped_df_cleaned) "
   ]
  },
  {
   "cell_type": "code",
   "execution_count": 149,
   "id": "27bc2895",
   "metadata": {},
   "outputs": [
    {
     "data": {
      "image/png": "[encoded data removed]",
      "text/plain": [
       "<Figure size 1000x600 with 1 Axes>"
      ]
     },
     "metadata": {},
     "output_type": "display_data"
    }
   ],
   "source": [
    "# Plotting the grouped data\n",
    "plt.figure(figsize=(10, 6))\n",
    "sns.barplot(grouped_df_cleaned, x='Chest Pain Type', y='Patient_Count', hue='Treatment')\n",
    "plt.title('Patient Count by Chest Pain Type and Treatment')\n",
    "plt.xlabel('Chest Pain Type')\n",
    "plt.ylabel('Patient Count')\n",
    "plt.xticks(rotation=45)\n",
    "plt.legend(title='Treatment')\n",
    "plt.tight_layout()\n",
    "plt.show()"
   ]
  },
  {
   "cell_type": "markdown",
   "id": "4e3dd5f2",
   "metadata": {},
   "source": [
    "# Logistic Regression Analysis\n",
    "I want to know the ratio of the patients who can have 'Heart Attack'or are at high risk with due to age(50 above), diabetic, smoker, have cholesterol and blood pressure.  "
   ]
  },
  {
   "cell_type": "code",
   "execution_count": 21,
   "id": "96f1e404",
   "metadata": {
    "scrolled": true
   },
   "outputs": [
    {
     "name": "stdout",
     "output_type": "stream",
     "text": [
      "Requirement already satisfied: scikit-learn in c:\\users\\admin\\anaconda3\\lib\\site-packages (1.2.1)\n",
      "Requirement already satisfied: threadpoolctl>=2.0.0 in c:\\users\\admin\\anaconda3\\lib\\site-packages (from scikit-learn) (2.2.0)\n",
      "Requirement already satisfied: numpy>=1.17.3 in c:\\users\\admin\\anaconda3\\lib\\site-packages (from scikit-learn) (1.23.5)\n",
      "Requirement already satisfied: scipy>=1.3.2 in c:\\users\\admin\\anaconda3\\lib\\site-packages (from scikit-learn) (1.10.0)\n",
      "Requirement already satisfied: joblib>=1.1.1 in c:\\users\\admin\\anaconda3\\lib\\site-packages (from scikit-learn) (1.1.1)\n"
     ]
    }
   ],
   "source": [
    "!pip install scikit-learn       \n",
    "from sklearn.model_selection import train_test_split   # to split data to 80%training-20%testing \n",
    "from sklearn.linear_model import LogisticRegression    # to predict binary outcome from multivariates  \n",
    "from sklearn.metrics import accuracy_score, confusion_matrix, classification_report    #for performance report"
   ]
  },
  {
   "cell_type": "code",
   "execution_count": 23,
   "id": "dc4aa6ef",
   "metadata": {},
   "outputs": [],
   "source": [
    "# Creating indicators(factors) and converting in binary:\n",
    "df_cleaned['Age_Above_50'] = np.where(df_cleaned['Age'] > 50, 1, 0)\n",
    "df_cleaned['Smoker'] = np.where(df_cleaned['Smoking Status'] == 'Yes', 1, 0)\n",
    "df_cleaned['High_Cholesterol'] = np.where(df_cleaned['Cholesterol (mg/dL)'] > 200, 1, 0)\n",
    "df_cleaned['High_BP'] = np.where(df_cleaned['Blood Pressure (mmHg)'] > 140, 1, 0)\n",
    "df_cleaned['Has_Diabetes'] = np.where(df_cleaned['Has Diabetes']=='Yes',1,0)"
   ]
  },
  {
   "cell_type": "code",
   "execution_count": 24,
   "id": "318f6b96",
   "metadata": {
    "scrolled": true
   },
   "outputs": [
    {
     "data": {
      "text/html": [
       "<div>\n",
       "<style scoped>\n",
       "    .dataframe tbody tr th:only-of-type {\n",
       "        vertical-align: middle;\n",
       "    }\n",
       "\n",
       "    .dataframe tbody tr th {\n",
       "        vertical-align: top;\n",
       "    }\n",
       "\n",
       "    .dataframe thead th {\n",
       "        text-align: right;\n",
       "    }\n",
       "</style>\n",
       "<table border=\"1\" class=\"dataframe\">\n",
       "  <thead>\n",
       "    <tr style=\"text-align: right;\">\n",
       "      <th></th>\n",
       "      <th>Gender</th>\n",
       "      <th>Age</th>\n",
       "      <th>Blood Pressure (mmHg)</th>\n",
       "      <th>Cholesterol (mg/dL)</th>\n",
       "      <th>Has Diabetes</th>\n",
       "      <th>Smoking Status</th>\n",
       "      <th>Chest Pain Type</th>\n",
       "      <th>Treatment</th>\n",
       "      <th>Age_Above_50</th>\n",
       "      <th>Smoker</th>\n",
       "      <th>High_Cholesterol</th>\n",
       "      <th>High_BP</th>\n",
       "      <th>Has_Diabetes</th>\n",
       "    </tr>\n",
       "  </thead>\n",
       "  <tbody>\n",
       "    <tr>\n",
       "      <th>0</th>\n",
       "      <td>Male</td>\n",
       "      <td>70</td>\n",
       "      <td>181</td>\n",
       "      <td>262</td>\n",
       "      <td>No</td>\n",
       "      <td>Never</td>\n",
       "      <td>Typical Angina</td>\n",
       "      <td>Lifestyle Changes</td>\n",
       "      <td>1</td>\n",
       "      <td>0</td>\n",
       "      <td>1</td>\n",
       "      <td>1</td>\n",
       "      <td>0</td>\n",
       "    </tr>\n",
       "    <tr>\n",
       "      <th>1</th>\n",
       "      <td>Female</td>\n",
       "      <td>55</td>\n",
       "      <td>103</td>\n",
       "      <td>253</td>\n",
       "      <td>Yes</td>\n",
       "      <td>Never</td>\n",
       "      <td>Atypical Angina</td>\n",
       "      <td>Angioplasty</td>\n",
       "      <td>1</td>\n",
       "      <td>0</td>\n",
       "      <td>1</td>\n",
       "      <td>0</td>\n",
       "      <td>1</td>\n",
       "    </tr>\n",
       "    <tr>\n",
       "      <th>2</th>\n",
       "      <td>Male</td>\n",
       "      <td>42</td>\n",
       "      <td>95</td>\n",
       "      <td>295</td>\n",
       "      <td>Yes</td>\n",
       "      <td>Current</td>\n",
       "      <td>Typical Angina</td>\n",
       "      <td>Angioplasty</td>\n",
       "      <td>0</td>\n",
       "      <td>0</td>\n",
       "      <td>1</td>\n",
       "      <td>0</td>\n",
       "      <td>1</td>\n",
       "    </tr>\n",
       "    <tr>\n",
       "      <th>3</th>\n",
       "      <td>Male</td>\n",
       "      <td>84</td>\n",
       "      <td>106</td>\n",
       "      <td>270</td>\n",
       "      <td>No</td>\n",
       "      <td>Never</td>\n",
       "      <td>Atypical Angina</td>\n",
       "      <td>Coronary Artery Bypass Graft (CABG)</td>\n",
       "      <td>1</td>\n",
       "      <td>0</td>\n",
       "      <td>1</td>\n",
       "      <td>0</td>\n",
       "      <td>0</td>\n",
       "    </tr>\n",
       "    <tr>\n",
       "      <th>4</th>\n",
       "      <td>Male</td>\n",
       "      <td>86</td>\n",
       "      <td>187</td>\n",
       "      <td>296</td>\n",
       "      <td>Yes</td>\n",
       "      <td>Current</td>\n",
       "      <td>Non-anginal Pain</td>\n",
       "      <td>Medication</td>\n",
       "      <td>1</td>\n",
       "      <td>0</td>\n",
       "      <td>1</td>\n",
       "      <td>1</td>\n",
       "      <td>1</td>\n",
       "    </tr>\n",
       "    <tr>\n",
       "      <th>...</th>\n",
       "      <td>...</td>\n",
       "      <td>...</td>\n",
       "      <td>...</td>\n",
       "      <td>...</td>\n",
       "      <td>...</td>\n",
       "      <td>...</td>\n",
       "      <td>...</td>\n",
       "      <td>...</td>\n",
       "      <td>...</td>\n",
       "      <td>...</td>\n",
       "      <td>...</td>\n",
       "      <td>...</td>\n",
       "      <td>...</td>\n",
       "    </tr>\n",
       "    <tr>\n",
       "      <th>995</th>\n",
       "      <td>Male</td>\n",
       "      <td>42</td>\n",
       "      <td>125</td>\n",
       "      <td>193</td>\n",
       "      <td>Yes</td>\n",
       "      <td>Current</td>\n",
       "      <td>Typical Angina</td>\n",
       "      <td>Angioplasty</td>\n",
       "      <td>0</td>\n",
       "      <td>0</td>\n",
       "      <td>0</td>\n",
       "      <td>0</td>\n",
       "      <td>1</td>\n",
       "    </tr>\n",
       "    <tr>\n",
       "      <th>996</th>\n",
       "      <td>Male</td>\n",
       "      <td>80</td>\n",
       "      <td>186</td>\n",
       "      <td>267</td>\n",
       "      <td>Yes</td>\n",
       "      <td>Never</td>\n",
       "      <td>Atypical Angina</td>\n",
       "      <td>Coronary Artery Bypass Graft (CABG)</td>\n",
       "      <td>1</td>\n",
       "      <td>0</td>\n",
       "      <td>1</td>\n",
       "      <td>1</td>\n",
       "      <td>1</td>\n",
       "    </tr>\n",
       "    <tr>\n",
       "      <th>997</th>\n",
       "      <td>Female</td>\n",
       "      <td>64</td>\n",
       "      <td>108</td>\n",
       "      <td>174</td>\n",
       "      <td>Yes</td>\n",
       "      <td>Current</td>\n",
       "      <td>Non-anginal Pain</td>\n",
       "      <td>Coronary Artery Bypass Graft (CABG)</td>\n",
       "      <td>1</td>\n",
       "      <td>0</td>\n",
       "      <td>0</td>\n",
       "      <td>0</td>\n",
       "      <td>1</td>\n",
       "    </tr>\n",
       "    <tr>\n",
       "      <th>998</th>\n",
       "      <td>Female</td>\n",
       "      <td>84</td>\n",
       "      <td>123</td>\n",
       "      <td>195</td>\n",
       "      <td>No</td>\n",
       "      <td>Current</td>\n",
       "      <td>Asymptomatic</td>\n",
       "      <td>Lifestyle Changes</td>\n",
       "      <td>1</td>\n",
       "      <td>0</td>\n",
       "      <td>0</td>\n",
       "      <td>0</td>\n",
       "      <td>0</td>\n",
       "    </tr>\n",
       "    <tr>\n",
       "      <th>999</th>\n",
       "      <td>Male</td>\n",
       "      <td>61</td>\n",
       "      <td>155</td>\n",
       "      <td>197</td>\n",
       "      <td>No</td>\n",
       "      <td>Former</td>\n",
       "      <td>Atypical Angina</td>\n",
       "      <td>Lifestyle Changes</td>\n",
       "      <td>1</td>\n",
       "      <td>0</td>\n",
       "      <td>0</td>\n",
       "      <td>1</td>\n",
       "      <td>0</td>\n",
       "    </tr>\n",
       "  </tbody>\n",
       "</table>\n",
       "<p>1000 rows × 13 columns</p>\n",
       "</div>"
      ],
      "text/plain": [
       "     Gender  Age  Blood Pressure (mmHg)  Cholesterol (mg/dL) Has Diabetes  \\\n",
       "0      Male   70                    181                  262           No   \n",
       "1    Female   55                    103                  253          Yes   \n",
       "2      Male   42                     95                  295          Yes   \n",
       "3      Male   84                    106                  270           No   \n",
       "4      Male   86                    187                  296          Yes   \n",
       "..      ...  ...                    ...                  ...          ...   \n",
       "995    Male   42                    125                  193          Yes   \n",
       "996    Male   80                    186                  267          Yes   \n",
       "997  Female   64                    108                  174          Yes   \n",
       "998  Female   84                    123                  195           No   \n",
       "999    Male   61                    155                  197           No   \n",
       "\n",
       "    Smoking Status   Chest Pain Type                            Treatment  \\\n",
       "0            Never    Typical Angina                    Lifestyle Changes   \n",
       "1            Never   Atypical Angina                          Angioplasty   \n",
       "2          Current    Typical Angina                          Angioplasty   \n",
       "3            Never   Atypical Angina  Coronary Artery Bypass Graft (CABG)   \n",
       "4          Current  Non-anginal Pain                           Medication   \n",
       "..             ...               ...                                  ...   \n",
       "995        Current    Typical Angina                          Angioplasty   \n",
       "996          Never   Atypical Angina  Coronary Artery Bypass Graft (CABG)   \n",
       "997        Current  Non-anginal Pain  Coronary Artery Bypass Graft (CABG)   \n",
       "998        Current      Asymptomatic                    Lifestyle Changes   \n",
       "999         Former   Atypical Angina                    Lifestyle Changes   \n",
       "\n",
       "     Age_Above_50  Smoker  High_Cholesterol  High_BP  Has_Diabetes  \n",
       "0               1       0                 1        1             0  \n",
       "1               1       0                 1        0             1  \n",
       "2               0       0                 1        0             1  \n",
       "3               1       0                 1        0             0  \n",
       "4               1       0                 1        1             1  \n",
       "..            ...     ...               ...      ...           ...  \n",
       "995             0       0                 0        0             1  \n",
       "996             1       0                 1        1             1  \n",
       "997             1       0                 0        0             1  \n",
       "998             1       0                 0        0             0  \n",
       "999             1       0                 0        1             0  \n",
       "\n",
       "[1000 rows x 13 columns]"
      ]
     },
     "execution_count": 24,
     "metadata": {},
     "output_type": "execute_result"
    }
   ],
   "source": [
    "df_cleaned"
   ]
  },
  {
   "cell_type": "code",
   "execution_count": 25,
   "id": "c61272d9",
   "metadata": {
    "scrolled": true
   },
   "outputs": [
    {
     "name": "stdout",
     "output_type": "stream",
     "text": [
      "1    517\n",
      "0    483\n",
      "Name: Has_Diabetes, dtype: int64\n"
     ]
    }
   ],
   "source": [
    "# to count on how many patients are dibateic:\n",
    "print(df_cleaned['Has_Diabetes'].value_counts())"
   ]
  },
  {
   "cell_type": "code",
   "execution_count": 26,
   "id": "7d42dd1c",
   "metadata": {},
   "outputs": [],
   "source": [
    "#to predict Heart_attack with at least 3 indicators/factors should be met \n",
    "df_cleaned['Heart_Attack'] = np.where(\n",
    "    (df_cleaned[['High_Cholesterol', 'High_BP', 'Age_Above_50', 'Smoker', 'Has_Diabetes']].sum(axis=1) >= 3), 1, 0)"
   ]
  },
  {
   "cell_type": "code",
   "execution_count": 27,
   "id": "b4662c36",
   "metadata": {},
   "outputs": [
    {
     "name": "stdout",
     "output_type": "stream",
     "text": [
      "0    528\n",
      "1    472\n",
      "Name: Heart_Attack, dtype: int64\n"
     ]
    }
   ],
   "source": [
    "print(df_cleaned['Heart_Attack'].value_counts())"
   ]
  },
  {
   "cell_type": "code",
   "execution_count": 30,
   "id": "a914b39f",
   "metadata": {},
   "outputs": [],
   "source": [
    "# Define features(indicators) according to the target(heart attack)\n",
    "X = df_cleaned[['High_Cholesterol', 'High_BP', 'Age_Above_50', 'Smoker','Has_Diabetes']]\n",
    "y = df_cleaned['Heart_Attack']  "
   ]
  },
  {
   "cell_type": "code",
   "execution_count": 31,
   "id": "5e2ad133",
   "metadata": {},
   "outputs": [],
   "source": [
    "# Split the data\n",
    "from sklearn.model_selection import train_test_split\n",
    "\n",
    "X_train, X_test, y_train, y_test = train_test_split(X, y, test_size=0.3, random_state=42)\n"
   ]
  },
  {
   "cell_type": "code",
   "execution_count": 32,
   "id": "0d4045b8",
   "metadata": {},
   "outputs": [
    {
     "name": "stdout",
     "output_type": "stream",
     "text": [
      "0    364\n",
      "1    336\n",
      "Name: Heart_Attack, dtype: int64\n"
     ]
    }
   ],
   "source": [
    "print(y_train.value_counts())"
   ]
  },
  {
   "cell_type": "code",
   "execution_count": 33,
   "id": "276ff8e1",
   "metadata": {
    "scrolled": true
   },
   "outputs": [
    {
     "data": {
      "text/html": [
       "<style>#sk-container-id-1 {color: black;background-color: white;}#sk-container-id-1 pre{padding: 0;}#sk-container-id-1 div.sk-toggleable {background-color: white;}#sk-container-id-1 label.sk-toggleable__label {cursor: pointer;display: block;width: 100%;margin-bottom: 0;padding: 0.3em;box-sizing: border-box;text-align: center;}#sk-container-id-1 label.sk-toggleable__label-arrow:before {content: \"▸\";float: left;margin-right: 0.25em;color: #696969;}#sk-container-id-1 label.sk-toggleable__label-arrow:hover:before {color: black;}#sk-container-id-1 div.sk-estimator:hover label.sk-toggleable__label-arrow:before {color: black;}#sk-container-id-1 div.sk-toggleable__content {max-height: 0;max-width: 0;overflow: hidden;text-align: left;background-color: #f0f8ff;}#sk-container-id-1 div.sk-toggleable__content pre {margin: 0.2em;color: black;border-radius: 0.25em;background-color: #f0f8ff;}#sk-container-id-1 input.sk-toggleable__control:checked~div.sk-toggleable__content {max-height: 200px;max-width: 100%;overflow: auto;}#sk-container-id-1 input.sk-toggleable__control:checked~label.sk-toggleable__label-arrow:before {content: \"▾\";}#sk-container-id-1 div.sk-estimator input.sk-toggleable__control:checked~label.sk-toggleable__label {background-color: #d4ebff;}#sk-container-id-1 div.sk-label input.sk-toggleable__control:checked~label.sk-toggleable__label {background-color: #d4ebff;}#sk-container-id-1 input.sk-hidden--visually {border: 0;clip: rect(1px 1px 1px 1px);clip: rect(1px, 1px, 1px, 1px);height: 1px;margin: -1px;overflow: hidden;padding: 0;position: absolute;width: 1px;}#sk-container-id-1 div.sk-estimator {font-family: monospace;background-color: #f0f8ff;border: 1px dotted black;border-radius: 0.25em;box-sizing: border-box;margin-bottom: 0.5em;}#sk-container-id-1 div.sk-estimator:hover {background-color: #d4ebff;}#sk-container-id-1 div.sk-parallel-item::after {content: \"\";width: 100%;border-bottom: 1px solid gray;flex-grow: 1;}#sk-container-id-1 div.sk-label:hover label.sk-toggleable__label {background-color: #d4ebff;}#sk-container-id-1 div.sk-serial::before {content: \"\";position: absolute;border-left: 1px solid gray;box-sizing: border-box;top: 0;bottom: 0;left: 50%;z-index: 0;}#sk-container-id-1 div.sk-serial {display: flex;flex-direction: column;align-items: center;background-color: white;padding-right: 0.2em;padding-left: 0.2em;position: relative;}#sk-container-id-1 div.sk-item {position: relative;z-index: 1;}#sk-container-id-1 div.sk-parallel {display: flex;align-items: stretch;justify-content: center;background-color: white;position: relative;}#sk-container-id-1 div.sk-item::before, #sk-container-id-1 div.sk-parallel-item::before {content: \"\";position: absolute;border-left: 1px solid gray;box-sizing: border-box;top: 0;bottom: 0;left: 50%;z-index: -1;}#sk-container-id-1 div.sk-parallel-item {display: flex;flex-direction: column;z-index: 1;position: relative;background-color: white;}#sk-container-id-1 div.sk-parallel-item:first-child::after {align-self: flex-end;width: 50%;}#sk-container-id-1 div.sk-parallel-item:last-child::after {align-self: flex-start;width: 50%;}#sk-container-id-1 div.sk-parallel-item:only-child::after {width: 0;}#sk-container-id-1 div.sk-dashed-wrapped {border: 1px dashed gray;margin: 0 0.4em 0.5em 0.4em;box-sizing: border-box;padding-bottom: 0.4em;background-color: white;}#sk-container-id-1 div.sk-label label {font-family: monospace;font-weight: bold;display: inline-block;line-height: 1.2em;}#sk-container-id-1 div.sk-label-container {text-align: center;}#sk-container-id-1 div.sk-container {/* jupyter's `normalize.less` sets `[hidden] { display: none; }` but bootstrap.min.css set `[hidden] { display: none !important; }` so we also need the `!important` here to be able to override the default hidden behavior on the sphinx rendered scikit-learn.org. See: https://github.com/scikit-learn/scikit-learn/issues/21755 */display: inline-block !important;position: relative;}#sk-container-id-1 div.sk-text-repr-fallback {display: none;}</style><div id=\"sk-container-id-1\" class=\"sk-top-container\"><div class=\"sk-text-repr-fallback\"><pre>LogisticRegression()</pre><b>In a Jupyter environment, please rerun this cell to show the HTML representation or trust the notebook. <br />On GitHub, the HTML representation is unable to render, please try loading this page with nbviewer.org.</b></div><div class=\"sk-container\" hidden><div class=\"sk-item\"><div class=\"sk-estimator sk-toggleable\"><input class=\"sk-toggleable__control sk-hidden--visually\" id=\"sk-estimator-id-1\" type=\"checkbox\" checked><label for=\"sk-estimator-id-1\" class=\"sk-toggleable__label sk-toggleable__label-arrow\">LogisticRegression</label><div class=\"sk-toggleable__content\"><pre>LogisticRegression()</pre></div></div></div></div></div>"
      ],
      "text/plain": [
       "LogisticRegression()"
      ]
     },
     "execution_count": 33,
     "metadata": {},
     "output_type": "execute_result"
    }
   ],
   "source": [
    "# Fit the logistic regression model\n",
    "model = LogisticRegression()\n",
    "model.fit(X_train, y_train)"
   ]
  },
  {
   "cell_type": "code",
   "execution_count": 34,
   "id": "63a8e5d5",
   "metadata": {},
   "outputs": [],
   "source": [
    "# Make predictions\n",
    "y_pred = model.predict(X_test)"
   ]
  },
  {
   "cell_type": "code",
   "execution_count": 35,
   "id": "bde45b9c",
   "metadata": {},
   "outputs": [],
   "source": [
    "# Generate the confusion matrix\n",
    "conf_matrix = confusion_matrix(y_test, y_pred)"
   ]
  },
  {
   "cell_type": "code",
   "execution_count": 36,
   "id": "39e9be8e",
   "metadata": {},
   "outputs": [
    {
     "data": {
      "image/png": "[encoded data removed]",
      "text/plain": [
       "<Figure size 600x400 with 1 Axes>"
      ]
     },
     "metadata": {},
     "output_type": "display_data"
    }
   ],
   "source": [
    "# Visualize the confusion matrix using heatmap\n",
    "plt.figure(figsize=(6, 4))\n",
    "sns.heatmap(conf_matrix, annot=True, fmt='d', cmap='Blues', cbar=False)\n",
    "plt.ylabel('Actual')\n",
    "plt.xlabel('Predicted')\n",
    "plt.title('Confusion Matrix')\n",
    "plt.show()"
   ]
  },
  {
   "cell_type": "raw",
   "id": "1f179705",
   "metadata": {},
   "source": [
    "164: The number of true negatives (actual \"No Heart Attack\" cases that the model correctly predicted as \"No Heart Attack\").\n",
    "0: The number of false positives (actual \"No Heart Attack\" cases that the model incorrectly predicted as \"Heart Attack\").\n",
    "0: The number of false negatives (actual \"Heart Attack\" cases that the model incorrectly predicted as \"No Heart Attack\").\n",
    "136: The number of true positives (actual \"Heart Attack\" cases that the model correctly predicted as \"Heart Attack\")."
   ]
  },
  {
   "cell_type": "code",
   "execution_count": 37,
   "id": "a47cb6e3",
   "metadata": {},
   "outputs": [
    {
     "name": "stdout",
     "output_type": "stream",
     "text": [
      "Confusion Matrix:\n",
      " [[164   0]\n",
      " [  0 136]]\n",
      "Classification Report:\n",
      "               precision    recall  f1-score   support\n",
      "\n",
      "           0       1.00      1.00      1.00       164\n",
      "           1       1.00      1.00      1.00       136\n",
      "\n",
      "    accuracy                           1.00       300\n",
      "   macro avg       1.00      1.00      1.00       300\n",
      "weighted avg       1.00      1.00      1.00       300\n",
      "\n"
     ]
    }
   ],
   "source": [
    "# Evaluate the model\n",
    "\n",
    "print(\"Confusion Matrix:\\n\", confusion_matrix(y_test, y_pred))\n",
    "print(\"Classification Report:\\n\", classification_report(y_test, y_pred))"
   ]
  },
  {
   "cell_type": "code",
   "execution_count": 38,
   "id": "c6ef1059",
   "metadata": {},
   "outputs": [],
   "source": [
    "# To check which factors are affecting at which level to the patients \n",
    "# Get the model's coefficients (feature importance)\n",
    "coefficients = model.coef_[0]\n",
    "features = ['High_Cholesterol', 'High_BP', 'Age_Above_50', 'Smoker', 'Has_Diabetes']"
   ]
  },
  {
   "cell_type": "code",
   "execution_count": 40,
   "id": "47452023",
   "metadata": {},
   "outputs": [],
   "source": [
    "# Create a DataFrame to display feature importance\n",
    "import pandas as pd\n",
    "feature_importance = pd.DataFrame({'Feature': features, 'Importance': coefficients})"
   ]
  },
  {
   "cell_type": "code",
   "execution_count": 41,
   "id": "26a9de6c",
   "metadata": {},
   "outputs": [],
   "source": [
    "# Sort by absolute value of importance\n",
    "feature_importance['Abs_Importance'] = feature_importance['Importance'].abs()\n",
    "feature_importance = feature_importance.sort_values(by='Abs_Importance', ascending=False)"
   ]
  },
  {
   "cell_type": "code",
   "execution_count": 42,
   "id": "05677355",
   "metadata": {},
   "outputs": [
    {
     "name": "stdout",
     "output_type": "stream",
     "text": [
      "            Feature  Importance  Abs_Importance\n",
      "0  High_Cholesterol    4.942198        4.942198\n",
      "2      Age_Above_50    4.925959        4.925959\n",
      "4      Has_Diabetes    4.831676        4.831676\n",
      "1           High_BP    4.794244        4.794244\n",
      "3            Smoker    0.000000        0.000000\n"
     ]
    }
   ],
   "source": [
    "# Display the feature importance\n",
    "print(feature_importance)"
   ]
  },
  {
   "cell_type": "raw",
   "id": "ba1ad097",
   "metadata": {},
   "source": [
    "Hence, high cholesterol (4.9) of those who are above 50 but dibateic and having bp too are at red zone meaning at risk to have heart attack or can have serious heart issues. Smoking has shown no effect as it is 0.    "
   ]
  }
 ],
 "metadata": {
  "kernelspec": {
   "display_name": "Python 3 (ipykernel)",
   "language": "python",
   "name": "python3"
  },
  "language_info": {
   "codemirror_mode": {
    "name": "ipython",
    "version": 3
   },
   "file_extension": ".py",
   "mimetype": "text/x-python",
   "name": "python",
   "nbconvert_exporter": "python",
   "pygments_lexer": "ipython3",
   "version": "3.10.9"
  }
 },
 "nbformat": 4,
 "nbformat_minor": 5
}
