{
 "cells": [
  {
   "cell_type": "markdown",
   "id": "a95e429f",
   "metadata": {},
   "source": [
    "# Import necessary libraries"
   ]
  },
  {
   "cell_type": "code",
   "execution_count": 1,
   "id": "944755db",
   "metadata": {},
   "outputs": [],
   "source": [
    "import pandas as pd\n",
    "import numpy as np\n",
    "import matplotlib.pyplot as plt\n",
    "import seaborn as sns\n",
    "from sklearn.model_selection import train_test_split\n",
    "from sklearn.preprocessing import StandardScaler\n",
    "from sklearn.linear_model import LogisticRegression\n",
    "from sklearn.metrics import accuracy_score,classification_report, confusion_matrix"
   ]
  },
  {
   "cell_type": "markdown",
   "id": "76c777ed",
   "metadata": {},
   "source": [
    "# The dataset "
   ]
  },
  {
   "cell_type": "code",
   "execution_count": 2,
   "id": "269c86de",
   "metadata": {},
   "outputs": [],
   "source": [
    "file_path = r\"D:\\Nadia\\ML_DS_Projects\\ds_datasets\\Titanic-Dataset.csv\"\n",
    "titanic_data = pd.read_csv(file_path)"
   ]
  },
  {
   "cell_type": "code",
   "execution_count": 3,
   "id": "629816a4",
   "metadata": {
    "scrolled": true
   },
   "outputs": [
    {
     "data": {
      "text/html": [
       "<div>\n",
       "<style scoped>\n",
       "    .dataframe tbody tr th:only-of-type {\n",
       "        vertical-align: middle;\n",
       "    }\n",
       "\n",
       "    .dataframe tbody tr th {\n",
       "        vertical-align: top;\n",
       "    }\n",
       "\n",
       "    .dataframe thead th {\n",
       "        text-align: right;\n",
       "    }\n",
       "</style>\n",
       "<table border=\"1\" class=\"dataframe\">\n",
       "  <thead>\n",
       "    <tr style=\"text-align: right;\">\n",
       "      <th></th>\n",
       "      <th>PassengerId</th>\n",
       "      <th>Survived</th>\n",
       "      <th>Pclass</th>\n",
       "      <th>Name</th>\n",
       "      <th>Sex</th>\n",
       "      <th>Age</th>\n",
       "      <th>SibSp</th>\n",
       "      <th>Parch</th>\n",
       "      <th>Ticket</th>\n",
       "      <th>Fare</th>\n",
       "      <th>Cabin</th>\n",
       "      <th>Embarked</th>\n",
       "    </tr>\n",
       "  </thead>\n",
       "  <tbody>\n",
       "    <tr>\n",
       "      <th>0</th>\n",
       "      <td>1</td>\n",
       "      <td>0</td>\n",
       "      <td>3</td>\n",
       "      <td>Braund, Mr. Owen Harris</td>\n",
       "      <td>male</td>\n",
       "      <td>22.0</td>\n",
       "      <td>1</td>\n",
       "      <td>0</td>\n",
       "      <td>A/5 21171</td>\n",
       "      <td>7.2500</td>\n",
       "      <td>NaN</td>\n",
       "      <td>S</td>\n",
       "    </tr>\n",
       "    <tr>\n",
       "      <th>1</th>\n",
       "      <td>2</td>\n",
       "      <td>1</td>\n",
       "      <td>1</td>\n",
       "      <td>Cumings, Mrs. John Bradley (Florence Briggs Th...</td>\n",
       "      <td>female</td>\n",
       "      <td>38.0</td>\n",
       "      <td>1</td>\n",
       "      <td>0</td>\n",
       "      <td>PC 17599</td>\n",
       "      <td>71.2833</td>\n",
       "      <td>C85</td>\n",
       "      <td>C</td>\n",
       "    </tr>\n",
       "    <tr>\n",
       "      <th>2</th>\n",
       "      <td>3</td>\n",
       "      <td>1</td>\n",
       "      <td>3</td>\n",
       "      <td>Heikkinen, Miss. Laina</td>\n",
       "      <td>female</td>\n",
       "      <td>26.0</td>\n",
       "      <td>0</td>\n",
       "      <td>0</td>\n",
       "      <td>STON/O2. 3101282</td>\n",
       "      <td>7.9250</td>\n",
       "      <td>NaN</td>\n",
       "      <td>S</td>\n",
       "    </tr>\n",
       "    <tr>\n",
       "      <th>3</th>\n",
       "      <td>4</td>\n",
       "      <td>1</td>\n",
       "      <td>1</td>\n",
       "      <td>Futrelle, Mrs. Jacques Heath (Lily May Peel)</td>\n",
       "      <td>female</td>\n",
       "      <td>35.0</td>\n",
       "      <td>1</td>\n",
       "      <td>0</td>\n",
       "      <td>113803</td>\n",
       "      <td>53.1000</td>\n",
       "      <td>C123</td>\n",
       "      <td>S</td>\n",
       "    </tr>\n",
       "    <tr>\n",
       "      <th>4</th>\n",
       "      <td>5</td>\n",
       "      <td>0</td>\n",
       "      <td>3</td>\n",
       "      <td>Allen, Mr. William Henry</td>\n",
       "      <td>male</td>\n",
       "      <td>35.0</td>\n",
       "      <td>0</td>\n",
       "      <td>0</td>\n",
       "      <td>373450</td>\n",
       "      <td>8.0500</td>\n",
       "      <td>NaN</td>\n",
       "      <td>S</td>\n",
       "    </tr>\n",
       "  </tbody>\n",
       "</table>\n",
       "</div>"
      ],
      "text/plain": [
       "   PassengerId  Survived  Pclass  \\\n",
       "0            1         0       3   \n",
       "1            2         1       1   \n",
       "2            3         1       3   \n",
       "3            4         1       1   \n",
       "4            5         0       3   \n",
       "\n",
       "                                                Name     Sex   Age  SibSp  \\\n",
       "0                            Braund, Mr. Owen Harris    male  22.0      1   \n",
       "1  Cumings, Mrs. John Bradley (Florence Briggs Th...  female  38.0      1   \n",
       "2                             Heikkinen, Miss. Laina  female  26.0      0   \n",
       "3       Futrelle, Mrs. Jacques Heath (Lily May Peel)  female  35.0      1   \n",
       "4                           Allen, Mr. William Henry    male  35.0      0   \n",
       "\n",
       "   Parch            Ticket     Fare Cabin Embarked  \n",
       "0      0         A/5 21171   7.2500   NaN        S  \n",
       "1      0          PC 17599  71.2833   C85        C  \n",
       "2      0  STON/O2. 3101282   7.9250   NaN        S  \n",
       "3      0            113803  53.1000  C123        S  \n",
       "4      0            373450   8.0500   NaN        S  "
      ]
     },
     "execution_count": 3,
     "metadata": {},
     "output_type": "execute_result"
    }
   ],
   "source": [
    "titanic_data.head()"
   ]
  },
  {
   "cell_type": "code",
   "execution_count": 4,
   "id": "a5b9d54b",
   "metadata": {
    "scrolled": true
   },
   "outputs": [
    {
     "data": {
      "text/html": [
       "<div>\n",
       "<style scoped>\n",
       "    .dataframe tbody tr th:only-of-type {\n",
       "        vertical-align: middle;\n",
       "    }\n",
       "\n",
       "    .dataframe tbody tr th {\n",
       "        vertical-align: top;\n",
       "    }\n",
       "\n",
       "    .dataframe thead th {\n",
       "        text-align: right;\n",
       "    }\n",
       "</style>\n",
       "<table border=\"1\" class=\"dataframe\">\n",
       "  <thead>\n",
       "    <tr style=\"text-align: right;\">\n",
       "      <th></th>\n",
       "      <th>PassengerId</th>\n",
       "      <th>Survived</th>\n",
       "      <th>Pclass</th>\n",
       "      <th>Age</th>\n",
       "      <th>SibSp</th>\n",
       "      <th>Parch</th>\n",
       "      <th>Fare</th>\n",
       "    </tr>\n",
       "  </thead>\n",
       "  <tbody>\n",
       "    <tr>\n",
       "      <th>count</th>\n",
       "      <td>891.000000</td>\n",
       "      <td>891.000000</td>\n",
       "      <td>891.000000</td>\n",
       "      <td>714.000000</td>\n",
       "      <td>891.000000</td>\n",
       "      <td>891.000000</td>\n",
       "      <td>891.000000</td>\n",
       "    </tr>\n",
       "    <tr>\n",
       "      <th>mean</th>\n",
       "      <td>446.000000</td>\n",
       "      <td>0.383838</td>\n",
       "      <td>2.308642</td>\n",
       "      <td>29.699118</td>\n",
       "      <td>0.523008</td>\n",
       "      <td>0.381594</td>\n",
       "      <td>32.204208</td>\n",
       "    </tr>\n",
       "    <tr>\n",
       "      <th>std</th>\n",
       "      <td>257.353842</td>\n",
       "      <td>0.486592</td>\n",
       "      <td>0.836071</td>\n",
       "      <td>14.526497</td>\n",
       "      <td>1.102743</td>\n",
       "      <td>0.806057</td>\n",
       "      <td>49.693429</td>\n",
       "    </tr>\n",
       "    <tr>\n",
       "      <th>min</th>\n",
       "      <td>1.000000</td>\n",
       "      <td>0.000000</td>\n",
       "      <td>1.000000</td>\n",
       "      <td>0.420000</td>\n",
       "      <td>0.000000</td>\n",
       "      <td>0.000000</td>\n",
       "      <td>0.000000</td>\n",
       "    </tr>\n",
       "    <tr>\n",
       "      <th>25%</th>\n",
       "      <td>223.500000</td>\n",
       "      <td>0.000000</td>\n",
       "      <td>2.000000</td>\n",
       "      <td>20.125000</td>\n",
       "      <td>0.000000</td>\n",
       "      <td>0.000000</td>\n",
       "      <td>7.910400</td>\n",
       "    </tr>\n",
       "    <tr>\n",
       "      <th>50%</th>\n",
       "      <td>446.000000</td>\n",
       "      <td>0.000000</td>\n",
       "      <td>3.000000</td>\n",
       "      <td>28.000000</td>\n",
       "      <td>0.000000</td>\n",
       "      <td>0.000000</td>\n",
       "      <td>14.454200</td>\n",
       "    </tr>\n",
       "    <tr>\n",
       "      <th>75%</th>\n",
       "      <td>668.500000</td>\n",
       "      <td>1.000000</td>\n",
       "      <td>3.000000</td>\n",
       "      <td>38.000000</td>\n",
       "      <td>1.000000</td>\n",
       "      <td>0.000000</td>\n",
       "      <td>31.000000</td>\n",
       "    </tr>\n",
       "    <tr>\n",
       "      <th>max</th>\n",
       "      <td>891.000000</td>\n",
       "      <td>1.000000</td>\n",
       "      <td>3.000000</td>\n",
       "      <td>80.000000</td>\n",
       "      <td>8.000000</td>\n",
       "      <td>6.000000</td>\n",
       "      <td>512.329200</td>\n",
       "    </tr>\n",
       "  </tbody>\n",
       "</table>\n",
       "</div>"
      ],
      "text/plain": [
       "       PassengerId    Survived      Pclass         Age       SibSp  \\\n",
       "count   891.000000  891.000000  891.000000  714.000000  891.000000   \n",
       "mean    446.000000    0.383838    2.308642   29.699118    0.523008   \n",
       "std     257.353842    0.486592    0.836071   14.526497    1.102743   \n",
       "min       1.000000    0.000000    1.000000    0.420000    0.000000   \n",
       "25%     223.500000    0.000000    2.000000   20.125000    0.000000   \n",
       "50%     446.000000    0.000000    3.000000   28.000000    0.000000   \n",
       "75%     668.500000    1.000000    3.000000   38.000000    1.000000   \n",
       "max     891.000000    1.000000    3.000000   80.000000    8.000000   \n",
       "\n",
       "            Parch        Fare  \n",
       "count  891.000000  891.000000  \n",
       "mean     0.381594   32.204208  \n",
       "std      0.806057   49.693429  \n",
       "min      0.000000    0.000000  \n",
       "25%      0.000000    7.910400  \n",
       "50%      0.000000   14.454200  \n",
       "75%      0.000000   31.000000  \n",
       "max      6.000000  512.329200  "
      ]
     },
     "execution_count": 4,
     "metadata": {},
     "output_type": "execute_result"
    }
   ],
   "source": [
    "titanic_data.describe()"
   ]
  },
  {
   "cell_type": "code",
   "execution_count": 5,
   "id": "f978c57a",
   "metadata": {},
   "outputs": [
    {
     "name": "stdout",
     "output_type": "stream",
     "text": [
      "<class 'pandas.core.frame.DataFrame'>\n",
      "RangeIndex: 891 entries, 0 to 890\n",
      "Data columns (total 12 columns):\n",
      " #   Column       Non-Null Count  Dtype  \n",
      "---  ------       --------------  -----  \n",
      " 0   PassengerId  891 non-null    int64  \n",
      " 1   Survived     891 non-null    int64  \n",
      " 2   Pclass       891 non-null    int64  \n",
      " 3   Name         891 non-null    object \n",
      " 4   Sex          891 non-null    object \n",
      " 5   Age          714 non-null    float64\n",
      " 6   SibSp        891 non-null    int64  \n",
      " 7   Parch        891 non-null    int64  \n",
      " 8   Ticket       891 non-null    object \n",
      " 9   Fare         891 non-null    float64\n",
      " 10  Cabin        204 non-null    object \n",
      " 11  Embarked     889 non-null    object \n",
      "dtypes: float64(2), int64(5), object(5)\n",
      "memory usage: 83.7+ KB\n"
     ]
    }
   ],
   "source": [
    "titanic_data.info()"
   ]
  },
  {
   "cell_type": "markdown",
   "id": "ebfe925d",
   "metadata": {},
   "source": [
    "# Exploratory Data Analysis"
   ]
  },
  {
   "cell_type": "markdown",
   "id": "3553a490",
   "metadata": {},
   "source": [
    "# # Explore the Dataset"
   ]
  },
  {
   "cell_type": "code",
   "execution_count": 6,
   "id": "a37c8f59",
   "metadata": {},
   "outputs": [
    {
     "data": {
      "text/plain": [
       "PassengerId      0\n",
       "Survived         0\n",
       "Pclass           0\n",
       "Name             0\n",
       "Sex              0\n",
       "Age            177\n",
       "SibSp            0\n",
       "Parch            0\n",
       "Ticket           0\n",
       "Fare             0\n",
       "Cabin          687\n",
       "Embarked         2\n",
       "dtype: int64"
      ]
     },
     "execution_count": 6,
     "metadata": {},
     "output_type": "execute_result"
    }
   ],
   "source": [
    "# Check the total number of missing values in each column\n",
    "titanic_data.isnull().sum()"
   ]
  },
  {
   "cell_type": "code",
   "execution_count": 7,
   "id": "8cebf354",
   "metadata": {},
   "outputs": [
    {
     "data": {
      "image/png": "[encoded data removed]",
      "text/plain": [
       "<Figure size 800x400 with 1 Axes>"
      ]
     },
     "metadata": {},
     "output_type": "display_data"
    }
   ],
   "source": [
    "# creating heatmap to see where the data is missing:\n",
    "\n",
    "missing_counts = titanic_data.isnull().sum()     # Calculate missing values per column\n",
    "plt.figure(figsize=(8, 4))\n",
    "sns.heatmap(titanic_data.isnull(), cbar=False, cmap='viridis', yticklabels=False)\n",
    "plt.title('Missing Values Heatmap')\n",
    "\n",
    "# Add missing value counts above columns\n",
    "for i, col in enumerate(titanic_data.columns):\n",
    "    plt.text(i + 0.5, -2, f\"{missing_counts[col]}\", ha='center', va='center', fontsize=10, color='red')\n",
    "plt.show()"
   ]
  },
  {
   "cell_type": "raw",
   "id": "dab42c3b",
   "metadata": {},
   "source": [
    "Roughly 20% 0f Age is missing but Cabin column is almost 70% is missing so we can drop this as it is of no use in our analysis or either can convert in boolean feature.  "
   ]
  },
  {
   "cell_type": "code",
   "execution_count": 8,
   "id": "0e1b2837",
   "metadata": {},
   "outputs": [
    {
     "data": {
      "text/plain": [
       "0    549\n",
       "1    342\n",
       "Name: Survived, dtype: int64"
      ]
     },
     "execution_count": 8,
     "metadata": {},
     "output_type": "execute_result"
    }
   ],
   "source": [
    "# how many passengers survived?\n",
    "titanic_data['Survived'].value_counts()"
   ]
  },
  {
   "cell_type": "code",
   "execution_count": 9,
   "id": "590f33c7",
   "metadata": {},
   "outputs": [],
   "source": [
    "sns.set()"
   ]
  },
  {
   "cell_type": "code",
   "execution_count": 10,
   "id": "488ba7ed-ad0b-44ec-9488-6aceba9a8d18",
   "metadata": {},
   "outputs": [
    {
     "data": {
      "image/png": "[encoded data removed]",
      "text/plain": [
       "<Figure size 500x400 with 1 Axes>"
      ]
     },
     "metadata": {},
     "output_type": "display_data"
    }
   ],
   "source": [
    "# Fix: Use string keys for the palette dictionary\n",
    "palette_colors = {'0': 'crimson', '1': 'forestgreen'}\n",
    "\n",
    "# Convert 'Survived' column to string for correct palette mapping\n",
    "titanic_data['Survived'] = titanic_data['Survived'].astype(str)\n",
    "\n",
    "plt.figure(figsize=(5, 4))\n",
    "\n",
    "# Plot countplot with the corrected palette mapping\n",
    "sns.countplot(x='Survived', data=titanic_data, hue='Survived', palette=palette_colors, legend=False)  \n",
    "\n",
    "# Labeling\n",
    "plt.xticks(ticks=[0, 1], labels=['Non-Survived', 'Survived'])\n",
    "plt.title('Survived Vs Non-Survived')\n",
    "\n",
    "plt.show()"
   ]
  },
  {
   "cell_type": "code",
   "execution_count": 11,
   "id": "eab95d3b",
   "metadata": {},
   "outputs": [
    {
     "data": {
      "text/plain": [
       "male      577\n",
       "female    314\n",
       "Name: Sex, dtype: int64"
      ]
     },
     "execution_count": 11,
     "metadata": {},
     "output_type": "execute_result"
    }
   ],
   "source": [
    "# Total Gender count?\n",
    "titanic_data['Sex'].value_counts()"
   ]
  },
  {
   "cell_type": "code",
   "execution_count": 12,
   "id": "22179ffa",
   "metadata": {},
   "outputs": [
    {
     "data": {
      "image/png": "[encoded data removed]",
      "text/plain": [
       "<Figure size 640x480 with 1 Axes>"
      ]
     },
     "metadata": {},
     "output_type": "display_data"
    },
    {
     "data": {
      "text/plain": [
       "<Figure size 500x300 with 0 Axes>"
      ]
     },
     "metadata": {},
     "output_type": "display_data"
    }
   ],
   "source": [
    "# count of Survivors gender based:\n",
    "sns.countplot(x='Sex', hue='Survived', data=titanic_data, palette='RdBu_r')         \n",
    "\n",
    "# Define a fixed color palette for consistency\n",
    "palette_colors = {'0': 'lightblue', '1': 'peachpuff'} \n",
    "plt.title('Survival by Gender')\n",
    "plt.figure(figsize=(5, 3))\n",
    "plt.show()"
   ]
  },
  {
   "cell_type": "code",
   "execution_count": 13,
   "id": "015a369f",
   "metadata": {},
   "outputs": [
    {
     "data": {
      "text/plain": [
       "3    491\n",
       "1    216\n",
       "2    184\n",
       "Name: Pclass, dtype: int64"
      ]
     },
     "execution_count": 13,
     "metadata": {},
     "output_type": "execute_result"
    }
   ],
   "source": [
    "# Total count by Pclass wise?\n",
    "titanic_data['Pclass'].value_counts()"
   ]
  },
  {
   "cell_type": "code",
   "execution_count": 14,
   "id": "c4442371",
   "metadata": {},
   "outputs": [
    {
     "data": {
      "image/png": "[encoded data removed]",
      "text/plain": [
       "<Figure size 640x480 with 1 Axes>"
      ]
     },
     "metadata": {},
     "output_type": "display_data"
    }
   ],
   "source": [
    "# count of survivors class wise: \n",
    "sns.countplot(x='Pclass', hue='Survived', data=titanic_data, palette='RdBu_r')\n",
    "plt.title('Survival by Passenger Class')\n",
    "plt.show()"
   ]
  },
  {
   "cell_type": "code",
   "execution_count": 15,
   "id": "fe87075c",
   "metadata": {},
   "outputs": [
    {
     "data": {
      "image/png": "[encoded data removed]",
      "text/plain": [
       "<Figure size 640x480 with 1 Axes>"
      ]
     },
     "metadata": {},
     "output_type": "display_data"
    }
   ],
   "source": [
    "# Total passengers Age analysis:\n",
    "sns.histplot(titanic_data['Age'].dropna(), bins=30, kde=False)\n",
    "plt.title('Age Distribution')\n",
    "plt.show()"
   ]
  },
  {
   "cell_type": "code",
   "execution_count": 16,
   "id": "bda9bf7f",
   "metadata": {},
   "outputs": [
    {
     "data": {
      "image/png": "[encoded data removed]",
      "text/plain": [
       "<Figure size 640x480 with 1 Axes>"
      ]
     },
     "metadata": {},
     "output_type": "display_data"
    }
   ],
   "source": [
    "# survivors age analysis:\n",
    "sns.histplot(data=titanic_data.dropna(subset=['Age']), x='Age', hue='Survived', bins=30, kde=False)\n",
    "plt.title('Age Distribution of Survived Passengers')\n",
    "plt.show()"
   ]
  },
  {
   "cell_type": "markdown",
   "id": "ba5cc313",
   "metadata": {},
   "source": [
    "# Data Preprocessing"
   ]
  },
  {
   "cell_type": "markdown",
   "id": "08644c7b",
   "metadata": {},
   "source": [
    "## Data Cleaning"
   ]
  },
  {
   "cell_type": "code",
   "execution_count": 17,
   "id": "dfce89eb",
   "metadata": {},
   "outputs": [],
   "source": [
    "# dropping the Cabin column as it is not required:\n",
    "titanic_data = titanic_data.drop(columns='Cabin', axis=1)"
   ]
  },
  {
   "cell_type": "code",
   "execution_count": 18,
   "id": "7033edd2",
   "metadata": {},
   "outputs": [],
   "source": [
    "# replacing the missing values with mean value in Age column:\n",
    "titanic_data['Age'].fillna(titanic_data['Age'].mean(), inplace=True)"
   ]
  },
  {
   "cell_type": "code",
   "execution_count": 19,
   "id": "9114a3a5",
   "metadata": {},
   "outputs": [
    {
     "name": "stdout",
     "output_type": "stream",
     "text": [
      "0    S\n",
      "Name: Embarked, dtype: object\n"
     ]
    }
   ],
   "source": [
    "# fix Embarked column by using mode:\n",
    "print(titanic_data['Embarked'].mode())"
   ]
  },
  {
   "cell_type": "code",
   "execution_count": 20,
   "id": "ef33176e",
   "metadata": {},
   "outputs": [
    {
     "name": "stdout",
     "output_type": "stream",
     "text": [
      "S\n"
     ]
    }
   ],
   "source": [
    "# applying the index no.\n",
    "print(titanic_data['Embarked'].mode()[0])"
   ]
  },
  {
   "cell_type": "code",
   "execution_count": 21,
   "id": "2e4f7ae6",
   "metadata": {},
   "outputs": [],
   "source": [
    "# replacing the mode value with the missing values:\n",
    "titanic_data['Embarked'].fillna(titanic_data['Embarked'].mode()[0],inplace=True)"
   ]
  },
  {
   "cell_type": "code",
   "execution_count": 22,
   "id": "bcd8d1e0",
   "metadata": {},
   "outputs": [
    {
     "data": {
      "text/plain": [
       "PassengerId    0\n",
       "Survived       0\n",
       "Pclass         0\n",
       "Name           0\n",
       "Sex            0\n",
       "Age            0\n",
       "SibSp          0\n",
       "Parch          0\n",
       "Ticket         0\n",
       "Fare           0\n",
       "Embarked       0\n",
       "dtype: int64"
      ]
     },
     "execution_count": 22,
     "metadata": {},
     "output_type": "execute_result"
    }
   ],
   "source": [
    "# to recheck any null value is left:\n",
    "titanic_data.isnull().sum()"
   ]
  },
  {
   "cell_type": "markdown",
   "id": "681e09a8-e259-40c5-9acf-1fa775f787ed",
   "metadata": {},
   "source": [
    "## Detect & Handling Outliers "
   ]
  },
  {
   "cell_type": "code",
   "execution_count": 23,
   "id": "98e9f3c5-bc84-4867-94ce-4ff27a226f8f",
   "metadata": {},
   "outputs": [
    {
     "data": {
      "image/png": "[encoded data removed]",
      "text/plain": [
       "<Figure size 640x480 with 1 Axes>"
      ]
     },
     "metadata": {},
     "output_type": "display_data"
    }
   ],
   "source": [
    "# Check for outliers in 'Fare':\n",
    "sns.boxplot(x=titanic_data['Fare'])\n",
    "plt.show()"
   ]
  },
  {
   "cell_type": "code",
   "execution_count": 24,
   "id": "bd405a7e-23bb-4c53-93b1-c3177c5c8c6e",
   "metadata": {},
   "outputs": [
    {
     "data": {
      "image/png": "[encoded data removed]",
      "text/plain": [
       "<Figure size 640x480 with 1 Axes>"
      ]
     },
     "metadata": {},
     "output_type": "display_data"
    }
   ],
   "source": [
    "# Check for outliers in 'Age':\n",
    "sns.boxplot(x=titanic_data['Age'])\n",
    "plt.show()"
   ]
  },
  {
   "cell_type": "code",
   "execution_count": 25,
   "id": "8cacc42f-e966-4fd6-a498-5f892b3c1145",
   "metadata": {},
   "outputs": [
    {
     "name": "stdout",
     "output_type": "stream",
     "text": [
      "Lower Bound: -26.724, Upper Bound: 65.6344\n",
      "Number of Outliers: 116\n"
     ]
    }
   ],
   "source": [
    "# Calculate Q1, Q3, and IQR\n",
    "Q1 = titanic_data['Fare'].quantile(0.25)\n",
    "Q3 = titanic_data['Fare'].quantile(0.75)\n",
    "IQR = Q3 - Q1\n",
    "\n",
    "# Define lower and upper bounds\n",
    "lower_bound = Q1 - 1.5 * IQR\n",
    "upper_bound = Q3 + 1.5 * IQR\n",
    "\n",
    "print(f\"Lower Bound: {lower_bound}, Upper Bound: {upper_bound}\")\n",
    "\n",
    "# Find the number of outliers\n",
    "outliers = titanic_data[(titanic_data['Fare'] < lower_bound) | (titanic_data['Fare'] > upper_bound)]\n",
    "print(f\"Number of Outliers: {len(outliers)}\")"
   ]
  },
  {
   "cell_type": "code",
   "execution_count": 26,
   "id": "9939b127-39a2-4d5b-873c-55d9ae57f15f",
   "metadata": {},
   "outputs": [],
   "source": [
    "# Define upper and lower bounds\n",
    "lower_bound = 0  # Since fare cannot be negative\n",
    "upper_bound = 65.6344  \n",
    "\n",
    "# Apply capping\n",
    "titanic_data['Fare'] = np.where(titanic_data['Fare'] > upper_bound, upper_bound, titanic_data['Fare'])\n",
    "titanic_data['Fare'] = np.where(titanic_data['Fare'] < lower_bound, lower_bound, titanic_data['Fare'])"
   ]
  },
  {
   "cell_type": "code",
   "execution_count": 27,
   "id": "b7bf69ea-3ec6-4dd8-bf87-2bfec9be17b9",
   "metadata": {},
   "outputs": [
    {
     "data": {
      "image/png": "[encoded data removed]",
      "text/plain": [
       "<Figure size 640x480 with 1 Axes>"
      ]
     },
     "metadata": {},
     "output_type": "display_data"
    }
   ],
   "source": [
    "sns.boxplot(x=titanic_data['Fare'])\n",
    "plt.show()"
   ]
  },
  {
   "cell_type": "code",
   "execution_count": 28,
   "id": "52a97370-d25d-4e93-9a05-b6440a303de4",
   "metadata": {},
   "outputs": [
    {
     "name": "stdout",
     "output_type": "stream",
     "text": [
      "Lower Bound: 2.5, Upper Bound: 54.5\n",
      "Number of Outliers: 0\n"
     ]
    }
   ],
   "source": [
    "# Calculate Q1, Q3, and IQR on Age:\n",
    "Q1 = titanic_data['Age'].quantile(0.25)\n",
    "Q3 = titanic_data['Age'].quantile(0.75)\n",
    "IQR = Q3 - Q1\n",
    "\n",
    "# Define lower and upper bounds\n",
    "lower_bound = Q1 - 1.5 * IQR\n",
    "upper_bound = Q3 + 1.5 * IQR\n",
    "\n",
    "# Cap outliers\n",
    "titanic_data['Age'] = titanic_data['Age'].clip(lower_bound, upper_bound)\n",
    "print(f\"Lower Bound: {lower_bound}, Upper Bound: {upper_bound}\")\n",
    "\n",
    "# Find the number of outliers\n",
    "outliers = titanic_data[(titanic_data['Age'] < lower_bound) | (titanic_data['Age'] > upper_bound)]\n",
    "print(f\"Number of Outliers: {len(outliers)}\")"
   ]
  },
  {
   "cell_type": "code",
   "execution_count": 29,
   "id": "899af507-d372-4578-a6ee-74df1c18dbe0",
   "metadata": {},
   "outputs": [
    {
     "data": {
      "image/png": "[encoded data removed]",
      "text/plain": [
       "<Figure size 640x480 with 1 Axes>"
      ]
     },
     "metadata": {},
     "output_type": "display_data"
    }
   ],
   "source": [
    "sns.boxplot(x=titanic_data['Age'])\n",
    "plt.show()"
   ]
  },
  {
   "cell_type": "code",
   "execution_count": 30,
   "id": "f1807cd4-a582-4fb7-bbea-8c2d59f7fe90",
   "metadata": {},
   "outputs": [],
   "source": [
    "# Convert Age into Age_Group categories after handling outliers\n",
    "titanic_data['Age_Group'] = pd.cut(titanic_data['Age'], bins=[0, 12, 18, 50, 80], labels=['Child', 'Teen', 'Adult', 'Senior'])"
   ]
  },
  {
   "cell_type": "code",
   "execution_count": 31,
   "id": "62cb8a81-531d-4295-b101-f8914028f9cc",
   "metadata": {},
   "outputs": [],
   "source": [
    "# Categorizing SibSp and Parch:\n",
    "titanic_data['SibSp_Group'] = titanic_data['SibSp'].apply(lambda x: '0' if x == 0 else ('1-2' if x <= 2 else '3+'))\n",
    "titanic_data['Parch_Group'] = titanic_data['Parch'].apply(lambda x: '0' if x == 0 else ('1-2' if x <= 2 else '3+'))"
   ]
  },
  {
   "cell_type": "markdown",
   "id": "252dab4c-9acd-4308-8bc5-da711a2d5b4d",
   "metadata": {},
   "source": [
    "### Additional Feature Engineering"
   ]
  },
  {
   "cell_type": "code",
   "execution_count": 32,
   "id": "0434d106-63c9-4c0a-ab00-4c551bcb47d6",
   "metadata": {},
   "outputs": [],
   "source": [
    "# Family Size (Better than SibSp & Parch):\n",
    "titanic_data['FamilySize'] = titanic_data['SibSp'] + titanic_data['Parch'] + 1\n",
    "\n",
    "# Create grouped versions of SibSp and Parch\n",
    "sibsp_mapping = {0: 0, 1: 1, 2: 1, 3: 2, 4: 2, 5: 2, 8: 2}  # Group into 0, 1-2, 3+\n",
    "parch_mapping = {0: 0, 1: 1, 2: 1, 3: 2, 4: 2, 5: 2, 6: 2}  # Similar grouping\n",
    "\n",
    "titanic_data['SibSp_Group'] = titanic_data['SibSp'].map(sibsp_mapping)\n",
    "titanic_data['Parch_Group'] = titanic_data['Parch'].map(parch_mapping)"
   ]
  },
  {
   "cell_type": "code",
   "execution_count": 33,
   "id": "d0db5602-a9dc-4b1c-aa1f-3a099b0bc2ed",
   "metadata": {},
   "outputs": [],
   "source": [
    "# To figure Alone travellers:\n",
    "titanic_data['IsAlone'] = (titanic_data['FamilySize'] == 1).astype(int)"
   ]
  },
  {
   "cell_type": "code",
   "execution_count": 34,
   "id": "6e97dbd3-a83b-4f79-b60a-6119b454ddf9",
   "metadata": {},
   "outputs": [],
   "source": [
    "# Creating Fare per person:\n",
    "titanic_data['FarePerPerson'] = titanic_data['Fare'] / titanic_data['FamilySize']"
   ]
  },
  {
   "cell_type": "code",
   "execution_count": 35,
   "id": "d975acb0-cefc-4ace-a8d5-d7500bf85a5d",
   "metadata": {},
   "outputs": [
    {
     "name": "stdout",
     "output_type": "stream",
     "text": [
      "      Fare  FareCategory\n",
      "0   7.2500             0\n",
      "1  65.6344             3\n",
      "2   7.9250             0\n",
      "3  53.1000             3\n",
      "4   8.0500             0\n"
     ]
    }
   ],
   "source": [
    "# Fare distribution by Category:\n",
    "bins = [0, 10, 30, 50, 70]  # Adjusted bins within your min-max range\n",
    "labels = ['Low', 'Medium', 'High', 'Very High']\n",
    "\n",
    "titanic_data['FareCategory'] = pd.cut(titanic_data['Fare'], bins=bins, labels=labels, include_lowest=True)\n",
    "\n",
    "# Convert to numerical codes:\n",
    "titanic_data['FareCategory'] = titanic_data['FareCategory'].astype('category').cat.codes\n",
    "\n",
    "print(titanic_data[['Fare', 'FareCategory']].head())  "
   ]
  },
  {
   "cell_type": "markdown",
   "id": "76c4c22c",
   "metadata": {},
   "source": [
    "### Converting the Categorical Columns"
   ]
  },
  {
   "cell_type": "code",
   "execution_count": 36,
   "id": "75bb1233",
   "metadata": {},
   "outputs": [
    {
     "data": {
      "text/plain": [
       "S    646\n",
       "C    168\n",
       "Q     77\n",
       "Name: Embarked, dtype: int64"
      ]
     },
     "execution_count": 36,
     "metadata": {},
     "output_type": "execute_result"
    }
   ],
   "source": [
    "titanic_data['Embarked'].value_counts()"
   ]
  },
  {
   "cell_type": "code",
   "execution_count": 37,
   "id": "04bad60d",
   "metadata": {},
   "outputs": [],
   "source": [
    "# conveting categorical variables to binary: \n",
    "titanic_data.replace({'Sex': {'male': 0, 'female': 1}, 'Embarked': {'S': 0, 'C': 1, 'Q': 2}}, inplace=True)\n",
    "\n",
    "# Mapping Age_Group categories to numerical values:\n",
    "age_mapping = {'Child': 0, 'Teen': 1, 'Adult': 2, 'Senior': 3}\n",
    "titanic_data['Age_Group'] = titanic_data['Age_Group'].map(age_mapping)"
   ]
  },
  {
   "cell_type": "code",
   "execution_count": 38,
   "id": "c5c08bcd",
   "metadata": {},
   "outputs": [
    {
     "data": {
      "text/html": [
       "<div>\n",
       "<style scoped>\n",
       "    .dataframe tbody tr th:only-of-type {\n",
       "        vertical-align: middle;\n",
       "    }\n",
       "\n",
       "    .dataframe tbody tr th {\n",
       "        vertical-align: top;\n",
       "    }\n",
       "\n",
       "    .dataframe thead th {\n",
       "        text-align: right;\n",
       "    }\n",
       "</style>\n",
       "<table border=\"1\" class=\"dataframe\">\n",
       "  <thead>\n",
       "    <tr style=\"text-align: right;\">\n",
       "      <th></th>\n",
       "      <th>PassengerId</th>\n",
       "      <th>Survived</th>\n",
       "      <th>Pclass</th>\n",
       "      <th>Name</th>\n",
       "      <th>Sex</th>\n",
       "      <th>Age</th>\n",
       "      <th>SibSp</th>\n",
       "      <th>Parch</th>\n",
       "      <th>Ticket</th>\n",
       "      <th>Fare</th>\n",
       "      <th>Embarked</th>\n",
       "      <th>Age_Group</th>\n",
       "      <th>SibSp_Group</th>\n",
       "      <th>Parch_Group</th>\n",
       "      <th>FamilySize</th>\n",
       "      <th>IsAlone</th>\n",
       "      <th>FarePerPerson</th>\n",
       "      <th>FareCategory</th>\n",
       "    </tr>\n",
       "  </thead>\n",
       "  <tbody>\n",
       "    <tr>\n",
       "      <th>0</th>\n",
       "      <td>1</td>\n",
       "      <td>0</td>\n",
       "      <td>3</td>\n",
       "      <td>Braund, Mr. Owen Harris</td>\n",
       "      <td>0</td>\n",
       "      <td>22.0</td>\n",
       "      <td>1</td>\n",
       "      <td>0</td>\n",
       "      <td>A/5 21171</td>\n",
       "      <td>7.2500</td>\n",
       "      <td>0</td>\n",
       "      <td>2</td>\n",
       "      <td>1</td>\n",
       "      <td>0</td>\n",
       "      <td>2</td>\n",
       "      <td>0</td>\n",
       "      <td>3.6250</td>\n",
       "      <td>0</td>\n",
       "    </tr>\n",
       "    <tr>\n",
       "      <th>1</th>\n",
       "      <td>2</td>\n",
       "      <td>1</td>\n",
       "      <td>1</td>\n",
       "      <td>Cumings, Mrs. John Bradley (Florence Briggs Th...</td>\n",
       "      <td>1</td>\n",
       "      <td>38.0</td>\n",
       "      <td>1</td>\n",
       "      <td>0</td>\n",
       "      <td>PC 17599</td>\n",
       "      <td>65.6344</td>\n",
       "      <td>1</td>\n",
       "      <td>2</td>\n",
       "      <td>1</td>\n",
       "      <td>0</td>\n",
       "      <td>2</td>\n",
       "      <td>0</td>\n",
       "      <td>32.8172</td>\n",
       "      <td>3</td>\n",
       "    </tr>\n",
       "    <tr>\n",
       "      <th>2</th>\n",
       "      <td>3</td>\n",
       "      <td>1</td>\n",
       "      <td>3</td>\n",
       "      <td>Heikkinen, Miss. Laina</td>\n",
       "      <td>1</td>\n",
       "      <td>26.0</td>\n",
       "      <td>0</td>\n",
       "      <td>0</td>\n",
       "      <td>STON/O2. 3101282</td>\n",
       "      <td>7.9250</td>\n",
       "      <td>0</td>\n",
       "      <td>2</td>\n",
       "      <td>0</td>\n",
       "      <td>0</td>\n",
       "      <td>1</td>\n",
       "      <td>1</td>\n",
       "      <td>7.9250</td>\n",
       "      <td>0</td>\n",
       "    </tr>\n",
       "    <tr>\n",
       "      <th>3</th>\n",
       "      <td>4</td>\n",
       "      <td>1</td>\n",
       "      <td>1</td>\n",
       "      <td>Futrelle, Mrs. Jacques Heath (Lily May Peel)</td>\n",
       "      <td>1</td>\n",
       "      <td>35.0</td>\n",
       "      <td>1</td>\n",
       "      <td>0</td>\n",
       "      <td>113803</td>\n",
       "      <td>53.1000</td>\n",
       "      <td>0</td>\n",
       "      <td>2</td>\n",
       "      <td>1</td>\n",
       "      <td>0</td>\n",
       "      <td>2</td>\n",
       "      <td>0</td>\n",
       "      <td>26.5500</td>\n",
       "      <td>3</td>\n",
       "    </tr>\n",
       "    <tr>\n",
       "      <th>4</th>\n",
       "      <td>5</td>\n",
       "      <td>0</td>\n",
       "      <td>3</td>\n",
       "      <td>Allen, Mr. William Henry</td>\n",
       "      <td>0</td>\n",
       "      <td>35.0</td>\n",
       "      <td>0</td>\n",
       "      <td>0</td>\n",
       "      <td>373450</td>\n",
       "      <td>8.0500</td>\n",
       "      <td>0</td>\n",
       "      <td>2</td>\n",
       "      <td>0</td>\n",
       "      <td>0</td>\n",
       "      <td>1</td>\n",
       "      <td>1</td>\n",
       "      <td>8.0500</td>\n",
       "      <td>0</td>\n",
       "    </tr>\n",
       "  </tbody>\n",
       "</table>\n",
       "</div>"
      ],
      "text/plain": [
       "   PassengerId Survived  Pclass  \\\n",
       "0            1        0       3   \n",
       "1            2        1       1   \n",
       "2            3        1       3   \n",
       "3            4        1       1   \n",
       "4            5        0       3   \n",
       "\n",
       "                                                Name  Sex   Age  SibSp  Parch  \\\n",
       "0                            Braund, Mr. Owen Harris    0  22.0      1      0   \n",
       "1  Cumings, Mrs. John Bradley (Florence Briggs Th...    1  38.0      1      0   \n",
       "2                             Heikkinen, Miss. Laina    1  26.0      0      0   \n",
       "3       Futrelle, Mrs. Jacques Heath (Lily May Peel)    1  35.0      1      0   \n",
       "4                           Allen, Mr. William Henry    0  35.0      0      0   \n",
       "\n",
       "             Ticket     Fare  Embarked Age_Group  SibSp_Group  Parch_Group  \\\n",
       "0         A/5 21171   7.2500         0         2            1            0   \n",
       "1          PC 17599  65.6344         1         2            1            0   \n",
       "2  STON/O2. 3101282   7.9250         0         2            0            0   \n",
       "3            113803  53.1000         0         2            1            0   \n",
       "4            373450   8.0500         0         2            0            0   \n",
       "\n",
       "   FamilySize  IsAlone  FarePerPerson  FareCategory  \n",
       "0           2        0         3.6250             0  \n",
       "1           2        0        32.8172             3  \n",
       "2           1        1         7.9250             0  \n",
       "3           2        0        26.5500             3  \n",
       "4           1        1         8.0500             0  "
      ]
     },
     "execution_count": 38,
     "metadata": {},
     "output_type": "execute_result"
    }
   ],
   "source": [
    "titanic_data.head()"
   ]
  },
  {
   "cell_type": "markdown",
   "id": "292704bf",
   "metadata": {},
   "source": [
    "#### Separating Features & Target "
   ]
  },
  {
   "cell_type": "code",
   "execution_count": 39,
   "id": "3b65fd12",
   "metadata": {},
   "outputs": [],
   "source": [
    "# Drop irrelevant columns: \n",
    "X = titanic_data.drop(columns=['PassengerId', 'Name', 'Age', 'SibSp', 'Parch', 'Ticket', 'Fare', 'Survived'],axis=1)\n",
    "Y = titanic_data['Survived']"
   ]
  },
  {
   "cell_type": "code",
   "execution_count": 40,
   "id": "507981bc",
   "metadata": {},
   "outputs": [
    {
     "name": "stdout",
     "output_type": "stream",
     "text": [
      "     Pclass  Sex  Embarked Age_Group  SibSp_Group  Parch_Group  FamilySize  \\\n",
      "0         3    0         0         2            1            0           2   \n",
      "1         1    1         1         2            1            0           2   \n",
      "2         3    1         0         2            0            0           1   \n",
      "3         1    1         0         2            1            0           2   \n",
      "4         3    0         0         2            0            0           1   \n",
      "..      ...  ...       ...       ...          ...          ...         ...   \n",
      "886       2    0         0         2            0            0           1   \n",
      "887       1    1         0         2            0            0           1   \n",
      "888       3    1         0         2            1            1           4   \n",
      "889       1    0         1         2            0            0           1   \n",
      "890       3    0         2         2            0            0           1   \n",
      "\n",
      "     IsAlone  FarePerPerson  FareCategory  \n",
      "0          0         3.6250             0  \n",
      "1          0        32.8172             3  \n",
      "2          1         7.9250             0  \n",
      "3          0        26.5500             3  \n",
      "4          1         8.0500             0  \n",
      "..       ...            ...           ...  \n",
      "886        1        13.0000             1  \n",
      "887        1        30.0000             1  \n",
      "888        0         5.8625             1  \n",
      "889        1        30.0000             1  \n",
      "890        1         7.7500             0  \n",
      "\n",
      "[891 rows x 10 columns]\n"
     ]
    }
   ],
   "source": [
    "print(X)"
   ]
  },
  {
   "cell_type": "code",
   "execution_count": 41,
   "id": "78a73fa8",
   "metadata": {},
   "outputs": [
    {
     "name": "stdout",
     "output_type": "stream",
     "text": [
      "0      0\n",
      "1      1\n",
      "2      1\n",
      "3      1\n",
      "4      0\n",
      "      ..\n",
      "886    0\n",
      "887    1\n",
      "888    0\n",
      "889    1\n",
      "890    0\n",
      "Name: Survived, Length: 891, dtype: object\n"
     ]
    }
   ],
   "source": [
    "print(Y)"
   ]
  },
  {
   "cell_type": "markdown",
   "id": "ce6abf37",
   "metadata": {},
   "source": [
    "#### Spliting the data into Training data and Test data"
   ]
  },
  {
   "cell_type": "code",
   "execution_count": 42,
   "id": "11a65a89",
   "metadata": {},
   "outputs": [],
   "source": [
    "X_train,X_test,Y_train,Y_test = train_test_split(X,Y, test_size=0.2, random_state=42)"
   ]
  },
  {
   "cell_type": "code",
   "execution_count": 43,
   "id": "089d61b1-4139-4678-a57d-0349c17d1af2",
   "metadata": {},
   "outputs": [],
   "source": [
    "scaler = StandardScaler()\n",
    "X_train = scaler.fit_transform(X_train)  # Fit & transform training data\n",
    "X_test = scaler.transform(X_test)  # Transform test data "
   ]
  },
  {
   "cell_type": "code",
   "execution_count": 44,
   "id": "c9987027",
   "metadata": {},
   "outputs": [
    {
     "name": "stdout",
     "output_type": "stream",
     "text": [
      "(891, 10) (712, 10) (179, 10)\n"
     ]
    }
   ],
   "source": [
    "print(X.shape,X_train.shape,X_test.shape) "
   ]
  },
  {
   "cell_type": "code",
   "execution_count": 45,
   "id": "b6b2746b-5cc5-469d-b976-81b0ec0320ba",
   "metadata": {},
   "outputs": [
    {
     "name": "stdout",
     "output_type": "stream",
     "text": [
      "PassengerId      0\n",
      "Survived         0\n",
      "Pclass           0\n",
      "Name             0\n",
      "Sex              0\n",
      "Age              0\n",
      "SibSp            0\n",
      "Parch            0\n",
      "Ticket           0\n",
      "Fare             0\n",
      "Embarked         0\n",
      "Age_Group        0\n",
      "SibSp_Group      0\n",
      "Parch_Group      0\n",
      "FamilySize       0\n",
      "IsAlone          0\n",
      "FarePerPerson    0\n",
      "FareCategory     0\n",
      "dtype: int64\n"
     ]
    }
   ],
   "source": [
    "print(titanic_data.isnull().sum())\n"
   ]
  },
  {
   "cell_type": "markdown",
   "id": "d21892fd",
   "metadata": {},
   "source": [
    "#####  Model Training \n",
    "###### Logistic Regression "
   ]
  },
  {
   "cell_type": "code",
   "execution_count": 46,
   "id": "84374d4c-959d-420a-9fd0-44b6f261feb8",
   "metadata": {},
   "outputs": [
    {
     "data": {
      "text/html": [
       "<style>#sk-container-id-1 {color: black;background-color: white;}#sk-container-id-1 pre{padding: 0;}#sk-container-id-1 div.sk-toggleable {background-color: white;}#sk-container-id-1 label.sk-toggleable__label {cursor: pointer;display: block;width: 100%;margin-bottom: 0;padding: 0.3em;box-sizing: border-box;text-align: center;}#sk-container-id-1 label.sk-toggleable__label-arrow:before {content: \"▸\";float: left;margin-right: 0.25em;color: #696969;}#sk-container-id-1 label.sk-toggleable__label-arrow:hover:before {color: black;}#sk-container-id-1 div.sk-estimator:hover label.sk-toggleable__label-arrow:before {color: black;}#sk-container-id-1 div.sk-toggleable__content {max-height: 0;max-width: 0;overflow: hidden;text-align: left;background-color: #f0f8ff;}#sk-container-id-1 div.sk-toggleable__content pre {margin: 0.2em;color: black;border-radius: 0.25em;background-color: #f0f8ff;}#sk-container-id-1 input.sk-toggleable__control:checked~div.sk-toggleable__content {max-height: 200px;max-width: 100%;overflow: auto;}#sk-container-id-1 input.sk-toggleable__control:checked~label.sk-toggleable__label-arrow:before {content: \"▾\";}#sk-container-id-1 div.sk-estimator input.sk-toggleable__control:checked~label.sk-toggleable__label {background-color: #d4ebff;}#sk-container-id-1 div.sk-label input.sk-toggleable__control:checked~label.sk-toggleable__label {background-color: #d4ebff;}#sk-container-id-1 input.sk-hidden--visually {border: 0;clip: rect(1px 1px 1px 1px);clip: rect(1px, 1px, 1px, 1px);height: 1px;margin: -1px;overflow: hidden;padding: 0;position: absolute;width: 1px;}#sk-container-id-1 div.sk-estimator {font-family: monospace;background-color: #f0f8ff;border: 1px dotted black;border-radius: 0.25em;box-sizing: border-box;margin-bottom: 0.5em;}#sk-container-id-1 div.sk-estimator:hover {background-color: #d4ebff;}#sk-container-id-1 div.sk-parallel-item::after {content: \"\";width: 100%;border-bottom: 1px solid gray;flex-grow: 1;}#sk-container-id-1 div.sk-label:hover label.sk-toggleable__label {background-color: #d4ebff;}#sk-container-id-1 div.sk-serial::before {content: \"\";position: absolute;border-left: 1px solid gray;box-sizing: border-box;top: 0;bottom: 0;left: 50%;z-index: 0;}#sk-container-id-1 div.sk-serial {display: flex;flex-direction: column;align-items: center;background-color: white;padding-right: 0.2em;padding-left: 0.2em;position: relative;}#sk-container-id-1 div.sk-item {position: relative;z-index: 1;}#sk-container-id-1 div.sk-parallel {display: flex;align-items: stretch;justify-content: center;background-color: white;position: relative;}#sk-container-id-1 div.sk-item::before, #sk-container-id-1 div.sk-parallel-item::before {content: \"\";position: absolute;border-left: 1px solid gray;box-sizing: border-box;top: 0;bottom: 0;left: 50%;z-index: -1;}#sk-container-id-1 div.sk-parallel-item {display: flex;flex-direction: column;z-index: 1;position: relative;background-color: white;}#sk-container-id-1 div.sk-parallel-item:first-child::after {align-self: flex-end;width: 50%;}#sk-container-id-1 div.sk-parallel-item:last-child::after {align-self: flex-start;width: 50%;}#sk-container-id-1 div.sk-parallel-item:only-child::after {width: 0;}#sk-container-id-1 div.sk-dashed-wrapped {border: 1px dashed gray;margin: 0 0.4em 0.5em 0.4em;box-sizing: border-box;padding-bottom: 0.4em;background-color: white;}#sk-container-id-1 div.sk-label label {font-family: monospace;font-weight: bold;display: inline-block;line-height: 1.2em;}#sk-container-id-1 div.sk-label-container {text-align: center;}#sk-container-id-1 div.sk-container {/* jupyter's `normalize.less` sets `[hidden] { display: none; }` but bootstrap.min.css set `[hidden] { display: none !important; }` so we also need the `!important` here to be able to override the default hidden behavior on the sphinx rendered scikit-learn.org. See: https://github.com/scikit-learn/scikit-learn/issues/21755 */display: inline-block !important;position: relative;}#sk-container-id-1 div.sk-text-repr-fallback {display: none;}</style><div id=\"sk-container-id-1\" class=\"sk-top-container\"><div class=\"sk-text-repr-fallback\"><pre>LogisticRegression(class_weight=&#x27;balanced&#x27;, random_state=42)</pre><b>In a Jupyter environment, please rerun this cell to show the HTML representation or trust the notebook. <br />On GitHub, the HTML representation is unable to render, please try loading this page with nbviewer.org.</b></div><div class=\"sk-container\" hidden><div class=\"sk-item\"><div class=\"sk-estimator sk-toggleable\"><input class=\"sk-toggleable__control sk-hidden--visually\" id=\"sk-estimator-id-1\" type=\"checkbox\" checked><label for=\"sk-estimator-id-1\" class=\"sk-toggleable__label sk-toggleable__label-arrow\">LogisticRegression</label><div class=\"sk-toggleable__content\"><pre>LogisticRegression(class_weight=&#x27;balanced&#x27;, random_state=42)</pre></div></div></div></div></div>"
      ],
      "text/plain": [
       "LogisticRegression(class_weight='balanced', random_state=42)"
      ]
     },
     "execution_count": 46,
     "metadata": {},
     "output_type": "execute_result"
    }
   ],
   "source": [
    "# Train Logistic Regression Model with training data:\n",
    "model = LogisticRegression(class_weight='balanced', random_state=42)\n",
    "model.fit(X_train, Y_train)"
   ]
  },
  {
   "cell_type": "markdown",
   "id": "ddaf3783",
   "metadata": {},
   "source": [
    "##### Model Evaluation "
   ]
  },
  {
   "cell_type": "code",
   "execution_count": 47,
   "id": "0f853d29-ecf6-469c-8152-4389e9170ad4",
   "metadata": {},
   "outputs": [],
   "source": [
    "# Get predicted probabilities for training data\n",
    "X_train_probs = model.predict_proba(X_train)[:, 1]  # Probability of \"Survived\"\n",
    "\n",
    "# Apply custom threshold:\n",
    "threshold = 0.5\n",
    "X_train_prediction = (X_train_probs > threshold).astype(int)"
   ]
  },
  {
   "cell_type": "code",
   "execution_count": 48,
   "id": "ce7e1250-b732-4893-99a2-f788041baccf",
   "metadata": {},
   "outputs": [
    {
     "name": "stdout",
     "output_type": "stream",
     "text": [
      "[0.45736935 0.2874739  0.14062213 0.12438292 0.55546103 0.73850939\n",
      " 0.45368481 0.31381402 0.14059525 0.53183506 0.84653316 0.18063357\n",
      " 0.28634387 0.21763506 0.14207843 0.89696501 0.94565737 0.96915093\n",
      " 0.2874739  0.97065335 0.55546103 0.07599164 0.69228753 0.9426952\n",
      " 0.53563272 0.16999294 0.74103399 0.14206292 0.4007734  0.21661858\n",
      " 0.14073726 0.56794388 0.14000184 0.96497645 0.20552002 0.49876162\n",
      " 0.21809966 0.85028104 0.58586978 0.89696501 0.14000184 0.14059525\n",
      " 0.84653316 0.30007298 0.52234038 0.13981849 0.80538559 0.14025042\n",
      " 0.72070786 0.83155533 0.69108935 0.26159312 0.85023296 0.20555112\n",
      " 0.73685231 0.14130249 0.69084534 0.92706454 0.81681689 0.96915093\n",
      " 0.2444871  0.133483   0.83155533 0.16998842 0.69228753 0.16914362\n",
      " 0.14207843 0.14073726 0.14059525 0.14000184 0.35762472 0.74743949\n",
      " 0.23760687 0.20555112 0.16999294 0.37202335 0.13974978 0.14073726\n",
      " 0.89857237 0.28358853 0.83155533 0.96148969 0.61561516 0.84653316\n",
      " 0.14130249 0.34678937 0.29715073 0.24427107 0.45368481 0.80121898\n",
      " 0.14059525 0.91837367 0.170328   0.29150924 0.69178543 0.84906469\n",
      " 0.14073726 0.24376162 0.34022065 0.95953305 0.2874739  0.06655118\n",
      " 0.13981849 0.94565737 0.133483   0.34021347 0.15514521 0.77977914\n",
      " 0.09884209 0.61337447 0.45142943 0.14036914 0.20555112 0.91565827\n",
      " 0.73755283 0.14062213 0.45566178 0.25964975 0.25311114 0.18976381\n",
      " 0.74461279 0.74914979 0.61561516 0.35062818 0.28358853 0.2434107\n",
      " 0.60638746 0.1913282  0.71793113 0.29715073 0.2874739  0.55921542\n",
      " 0.82887069 0.33819286 0.14059525 0.14073726 0.84404246 0.69151783\n",
      " 0.84702738 0.6756693  0.79225537 0.53088651 0.14073726 0.550859\n",
      " 0.14050709 0.84404246 0.69108935 0.14055696 0.77961007 0.49414954\n",
      " 0.20555112 0.16998842 0.29002    0.72062309 0.2874739  0.1848608\n",
      " 0.55376269 0.96148969 0.89465416 0.17153916 0.17093929 0.30009298\n",
      " 0.14073726 0.08374899 0.14079485 0.20564967 0.14059525 0.9158668\n",
      " 0.14059525 0.46891569 0.33076262 0.9740281  0.1244123  0.06784314\n",
      " 0.43742463 0.22600524 0.24427107 0.57141816 0.16772462 0.1833483\n",
      " 0.33076262 0.66179251 0.84653316 0.77961007 0.06643493 0.88131868\n",
      " 0.77961007 0.55582512 0.18088711 0.14073726 0.56001476 0.95159218\n",
      " 0.40471004 0.20555112 0.26528873 0.17927511 0.07653503 0.85251275\n",
      " 0.71916369 0.94702377 0.17071067 0.98660693 0.46941217 0.96844101\n",
      " 0.96915093 0.18201864 0.14050323 0.2874739  0.59688518 0.13981849\n",
      " 0.7308396  0.93558265 0.87838066 0.95603104 0.83107071 0.94292581\n",
      " 0.96148969 0.2874739  0.14059525 0.30817905 0.74181246 0.94315089\n",
      " 0.204444   0.96915093 0.15972127 0.87473091 0.77958821 0.95632522\n",
      " 0.0769669  0.80992216 0.56917059 0.17071067 0.00200123 0.95592844\n",
      " 0.9405978  0.1552809  0.87442158 0.96717918 0.2874739  0.14059525\n",
      " 0.59592244 0.86042544 0.14062213 0.61337447 0.15775439 0.14059525\n",
      " 0.16998842 0.9426952  0.09835543 0.96148969 0.84906469 0.72016273\n",
      " 0.45264648 0.89761184 0.46666537 0.35270973 0.14019019 0.14036914\n",
      " 0.14059525 0.07642967 0.22238096 0.27527822 0.20455765 0.25454533\n",
      " 0.133483   0.45186801 0.45368481 0.26528873 0.74757488 0.43930026\n",
      " 0.26159312 0.47163963 0.52441029 0.77961007 0.28358853 0.12413248\n",
      " 0.14059525 0.29715073 0.66534304 0.14050323 0.16999294 0.20555112\n",
      " 0.1833483  0.95594782 0.11639059 0.44211696 0.21355012 0.24191499\n",
      " 0.16998842 0.84404246 0.77961007 0.93456725 0.14059525 0.43930026\n",
      " 0.6593631  0.94960745 0.94315089 0.41235131 0.96915093 0.93984098\n",
      " 0.14055696 0.97727798 0.74621549 0.96915093 0.16998842 0.22832276\n",
      " 0.14130249 0.2172731  0.94496983 0.84653316 0.08374899 0.94115517\n",
      " 0.20555112 0.14062213 0.14048409 0.85572114 0.0446427  0.2874739\n",
      " 0.34678937 0.16999294 0.69104186 0.84653316 0.15972127 0.17538963\n",
      " 0.75087576 0.14055696 0.33076262 0.133483   0.14073726 0.74757488\n",
      " 0.16999294 0.7674954  0.2874739  0.53329317 0.2055408  0.15514521\n",
      " 0.1586167  0.81664293 0.71897132 0.14000184 0.84618643 0.18021083\n",
      " 0.14000184 0.73684611 0.02668409 0.4531892  0.2874739  0.60899937\n",
      " 0.69677012 0.71471152 0.24537087 0.48399679 0.46020681 0.54489853\n",
      " 0.23418004 0.24302508 0.14005918 0.14059525 0.95560637 0.2874739\n",
      " 0.13990253 0.89680561 0.73755283 0.14207843 0.94960745 0.84653316\n",
      " 0.14062213 0.69677012 0.02668409 0.13019485 0.73850939 0.46516649\n",
      " 0.69047912 0.17699796 0.89140306 0.27251668 0.84615405 0.14073726\n",
      " 0.81444928 0.14073726 0.24191499 0.1833483  0.1833483  0.14073726\n",
      " 0.10593224 0.91870097 0.20555112 0.52902824 0.71916369 0.0446427\n",
      " 0.14073726 0.14073726 0.1419392  0.16998842 0.45521659 0.61881948\n",
      " 0.24427107 0.22832276 0.49876162 0.14073726 0.29715073 0.79225537\n",
      " 0.87838066 0.16999294 0.14073726 0.94415078 0.93512582 0.18021083\n",
      " 0.14207843 0.69378667 0.25466369 0.56001476 0.14062213 0.59993456\n",
      " 0.14048409 0.30266914 0.0769669  0.21658577 0.20553035 0.24302508\n",
      " 0.86282014 0.28358853 0.93393777 0.14129482 0.20553035 0.89810672\n",
      " 0.29060494 0.55546103 0.83155533 0.94565737 0.1576279  0.51698352\n",
      " 0.22226762 0.14207843 0.84404246 0.68849413 0.2874739  0.16999294\n",
      " 0.513273   0.15775439 0.89680561 0.14048409 0.79911095 0.14062213\n",
      " 0.17040013 0.41235131 0.363501   0.97243684 0.14062213 0.16988919\n",
      " 0.30817905 0.69677012 0.72082885 0.14073726 0.79031353 0.14050323\n",
      " 0.14130249 0.33076262 0.14059525 0.45442879 0.2874739  0.96915093\n",
      " 0.80179374 0.84653316 0.96148969 0.82248303 0.20430984 0.07681819\n",
      " 0.20065409 0.96148969 0.74901853 0.69259174 0.14062213 0.3709194\n",
      " 0.50836505 0.13931147 0.16280805 0.69084534 0.69129261 0.29620957\n",
      " 0.13974978 0.29150924 0.66179251 0.14059525 0.98368047 0.14058761\n",
      " 0.28358853 0.96915093 0.28358853 0.16772462 0.34678937 0.18201864\n",
      " 0.87122689 0.78011688 0.0446427  0.02668409 0.33076262 0.12435007\n",
      " 0.22238096 0.14207843 0.91767871 0.14073726 0.17093929 0.62295245\n",
      " 0.52234038 0.54718078 0.69677012 0.35546774 0.55691138 0.55549126\n",
      " 0.34678937 0.14073726 0.1714798  0.14027724 0.14059525 0.16999294\n",
      " 0.77977914 0.96915093 0.96148969 0.57912365 0.24545082 0.68999045\n",
      " 0.14059525 0.56001476 0.00200123 0.26528873 0.73731215 0.71916369\n",
      " 0.75879554 0.15775439 0.14059525 0.15514521 0.54938652 0.28358853\n",
      " 0.13988722 0.61561516 0.83107071 0.93946198 0.0837396  0.94372006\n",
      " 0.45597926 0.28358853 0.63427753 0.00200123 0.16999294 0.54718078\n",
      " 0.93456725 0.36289209 0.87334754 0.81412762 0.60642644 0.33076262\n",
      " 0.14073726 0.14073726 0.76202319 0.2434107  0.55189546 0.45368481\n",
      " 0.16998842 0.84615821 0.1576279  0.06643493 0.30817905 0.14050323\n",
      " 0.26603184 0.14073726 0.6593631  0.69232128 0.80179374 0.14059525\n",
      " 0.83155533 0.14130249 0.02323686 0.89590409 0.77959371 0.77961007\n",
      " 0.07680469 0.77945191 0.77961007 0.77961007 0.14207843 0.2874739\n",
      " 0.1780479  0.17071067 0.94565737 0.45442879 0.16656318 0.2874739\n",
      " 0.2874739  0.22238096 0.14050323 0.14000184 0.90142025 0.24505132\n",
      " 0.56001476 0.14130249 0.42120199 0.79059148 0.61937062 0.96148969\n",
      " 0.51321742 0.81454045 0.87417383 0.66149404 0.35762472 0.14048409\n",
      " 0.45368481 0.90142025 0.69108935 0.95632522 0.96915093 0.54821877\n",
      " 0.14048409 0.54821877 0.51321742 0.4531892  0.74431723 0.61109832\n",
      " 0.14073726 0.17071067 0.92098742 0.96148969 0.00200123 0.84923521\n",
      " 0.29715073 0.66017072 0.14073726 0.91729666 0.26159312 0.14055696\n",
      " 0.14059525 0.08655341 0.93117704 0.95632522 0.16999294 0.14059525\n",
      " 0.14161476 0.94460721 0.61561516 0.24299005 0.18942009 0.85896295\n",
      " 0.14073726 0.91767871 0.14055696 0.53183506 0.69129261 0.84653316\n",
      " 0.20555112 0.80179374 0.04009625 0.69097419 0.73703539 0.84653316\n",
      " 0.60135433 0.96717918 0.28358853 0.14059525 0.13926964 0.61561516\n",
      " 0.14161476 0.9800166  0.60899937 0.13988722 0.14059525 0.28825477\n",
      " 0.08549595 0.14059525 0.46020681 0.14036914 0.62206848 0.69677012\n",
      " 0.20555112 0.91546482 0.69419115 0.20555112 0.84653316 0.29715073\n",
      " 0.2874739  0.14059525 0.20555112 0.24828599 0.69080466 0.2874739\n",
      " 0.65895827 0.14048409 0.22238096 0.14000184 0.2874739  0.1410254\n",
      " 0.31077013 0.16998842 0.17071067 0.14022745 0.94799399 0.26528873\n",
      " 0.14073726 0.14073726 0.84404246 0.67175034 0.1835544  0.22238096\n",
      " 0.14073726 0.14073726 0.30817905 0.97727798 0.24542654 0.69064191\n",
      " 0.52329069 0.08455844 0.94726079 0.69178543]\n"
     ]
    }
   ],
   "source": [
    "print(X_train_probs)"
   ]
  },
  {
   "cell_type": "code",
   "execution_count": 49,
   "id": "9237930b-f9f7-4657-bfef-a4f715d7647a",
   "metadata": {},
   "outputs": [],
   "source": [
    "# Get predicticted probabilities on test data: \n",
    "X_test_probs = model.predict_proba(X_test)[:, 1]  # Probability of \"Survived\"\n",
    "X_test_prediction = (X_test_probs > threshold).astype(int)\n",
    "\n",
    "# Convert true labels to integer type: \n",
    "Y_test = Y_test.astype(int)  \n",
    "Y_train = Y_train.astype(int)"
   ]
  },
  {
   "cell_type": "code",
   "execution_count": 50,
   "id": "0d99d771-64e0-49e3-bb01-b7a698dd412a",
   "metadata": {},
   "outputs": [
    {
     "name": "stdout",
     "output_type": "stream",
     "text": [
      "[0.21333869 0.28358853 0.14062213 0.97781607 0.86136532 0.96148969\n",
      " 0.77961007 0.15486125 0.87418782 0.88784215 0.54821877 0.14073726\n",
      " 0.49876162 0.16998842 0.2874739  0.97710969 0.54770379 0.77971372\n",
      " 0.2874739  0.62206848 0.14059525 0.45368481 0.66011021 0.14182325\n",
      " 0.18021083 0.1240209  0.51321742 0.2874739  0.1240209  0.69097419\n",
      " 0.14059525 0.69080466 0.57948718 0.69047912 0.2434107  0.18976381\n",
      " 0.53183506 0.77961007 0.94970928 0.14059525 0.24191499 0.12404794\n",
      " 0.14073726 0.20555112 0.84954814 0.24615223 0.14083706 0.14182325\n",
      " 0.13981849 0.40091778 0.87838066 0.90560334 0.06077631 0.72070786\n",
      " 0.11639059 0.96558263 0.28358853 0.97475566 0.85428491 0.77977914\n",
      " 0.14048409 0.9434436  0.83155533 0.45250493 0.20555112 0.73370639\n",
      " 0.49588653 0.14057611 0.29002    0.91767871 0.84898331 0.91770299\n",
      " 0.51755421 0.95953305 0.14055696 0.15747623 0.77961007 0.93103656\n",
      " 0.84653316 0.69341736 0.08549595 0.84404246 0.95953305 0.20553557\n",
      " 0.4123059  0.44740715 0.95632522 0.96710526 0.34678937 0.14000184\n",
      " 0.38979075 0.55546103 0.36081765 0.20552525 0.14059525 0.14055696\n",
      " 0.54718078 0.14073726 0.84653316 0.14059525 0.29627636 0.13988722\n",
      " 0.95632522 0.13981849 0.14073726 0.12435007 0.88129845 0.53752126\n",
      " 0.14207843 0.58005181 0.94292581 0.14000184 0.95632522 0.4531892\n",
      " 0.64616142 0.14239985 0.41963191 0.33651111 0.84995747 0.69444846\n",
      " 0.16599885 0.96915093 0.89857237 0.54785127 0.14000184 0.51098885\n",
      " 0.91870097 0.69677012 0.76202602 0.14073726 0.77977914 0.21333869\n",
      " 0.22238096 0.919474   0.60773904 0.86282014 0.96915093 0.14048409\n",
      " 0.14027724 0.8350573  0.14109076 0.83155533 0.2874739  0.26528873\n",
      " 0.5153497  0.8795608  0.2874739  0.16772462 0.95632522 0.14073726\n",
      " 0.1715933  0.14022745 0.24305423 0.80697804 0.14073726 0.13981849\n",
      " 0.33076262 0.77965915 0.83155533 0.82358592 0.16999294 0.45368481\n",
      " 0.2874739  0.95632522 0.2064337  0.5864242  0.28358853 0.94289762\n",
      " 0.14059525 0.13981849 0.73683163 0.89008419 0.45337799 0.93466448\n",
      " 0.24211527 0.16998842 0.36352933 0.91401929 0.91942713]\n"
     ]
    }
   ],
   "source": [
    "print(X_test_probs)"
   ]
  },
  {
   "cell_type": "code",
   "execution_count": 51,
   "id": "f2d64eed-e32e-4295-8508-f9a55b3f54b4",
   "metadata": {},
   "outputs": [
    {
     "name": "stdout",
     "output_type": "stream",
     "text": [
      "Training Accuracy: 0.7879\n",
      "Test Accuracy: 0.7933\n"
     ]
    }
   ],
   "source": [
    "# Calculate accuracy:\n",
    "training_data_accuracy = accuracy_score(Y_train, X_train_prediction)\n",
    "test_data_accuracy = accuracy_score(Y_test, X_test_prediction)\n",
    "# Accuracy Score:\n",
    "print(f\"Training Accuracy: {training_data_accuracy:.4f}\") \n",
    "print(f\"Test Accuracy: {test_data_accuracy:.4f}\")"
   ]
  },
  {
   "cell_type": "markdown",
   "id": "05209609",
   "metadata": {},
   "source": [
    "The training accuracy is 79% which is similar to the test accuracy score which is 79.3%.\n",
    "This suggests that the model generalizes well and is not overfitting. "
   ]
  },
  {
   "cell_type": "code",
   "execution_count": 52,
   "id": "24dcb3e4-5be2-4b4d-9944-07ad0d14c4c9",
   "metadata": {},
   "outputs": [
    {
     "data": {
      "image/png": "[encoded data removed]",
      "text/plain": [
       "<Figure size 600x400 with 2 Axes>"
      ]
     },
     "metadata": {},
     "output_type": "display_data"
    }
   ],
   "source": [
    "# Generate Confusion Matrix\n",
    "cm = confusion_matrix(Y_test, X_test_prediction)\n",
    "\n",
    "# Plot the Confusion Matrix\n",
    "plt.figure(figsize=(6,4))\n",
    "sns.heatmap(cm, annot=True, fmt='d', cmap='Blues', xticklabels=['Not Survived', 'Survived'], yticklabels=['Not Survived', 'Survived'])\n",
    "plt.xlabel('Predicted')\n",
    "plt.ylabel('Actual')\n",
    "plt.title('Confusion Matrix')\n",
    "plt.show()"
   ]
  },
  {
   "cell_type": "raw",
   "id": "f33f9e8d-68d3-4162-9ed4-10ab74e76a20",
   "metadata": {},
   "source": [
    "True Negative (TN) = 81 correctly predicted Not Survived. \n",
    "False Positive (FP) = 24 incorrectly predicted Survived when the passengers did not survive.\n",
    "False Negative (FN) = 13 incorrectly predicted Not Survived when the passengers actually survived.\n",
    "True Positive (TP) = 61 correctly predicted Survived."
   ]
  },
  {
   "cell_type": "code",
   "execution_count": 53,
   "id": "e7e22cba-ca3a-4483-8648-583913853a5d",
   "metadata": {},
   "outputs": [
    {
     "name": "stdout",
     "output_type": "stream",
     "text": [
      "Classification Report:\n",
      "               precision    recall  f1-score   support\n",
      "\n",
      "           0       0.86      0.77      0.81       105\n",
      "           1       0.72      0.82      0.77        74\n",
      "\n",
      "    accuracy                           0.79       179\n",
      "   macro avg       0.79      0.80      0.79       179\n",
      "weighted avg       0.80      0.79      0.79       179\n",
      "\n"
     ]
    }
   ],
   "source": [
    "from sklearn.metrics import classification_report\n",
    "\n",
    "# Generate Classification Report\n",
    "report = classification_report(Y_test, X_test_prediction)\n",
    "print(\"Classification Report:\\n\", report)"
   ]
  },
  {
   "cell_type": "raw",
   "id": "4acdbadd-4d46-424a-9315-afeb85a06ce5",
   "metadata": {},
   "source": [
    "The model is performing well, with an F1-score of 0.79 and accuracy of 79%. "
   ]
  }
 ],
 "metadata": {
  "kernelspec": {
   "display_name": "Python 3 (ipykernel)",
   "language": "python",
   "name": "python3"
  },
  "language_info": {
   "codemirror_mode": {
    "name": "ipython",
    "version": 3
   },
   "file_extension": ".py",
   "mimetype": "text/x-python",
   "name": "python",
   "nbconvert_exporter": "python",
   "pygments_lexer": "ipython3",
   "version": "3.10.16"
  }
 },
 "nbformat": 4,
 "nbformat_minor": 5
}
